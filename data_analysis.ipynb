{
 "cells": [
  {
   "cell_type": "markdown",
   "metadata": {
    "id": "89f4da1e"
   },
   "source": [
    "<center><h1><b> ECON3203 Group Assignment Last Updated: 12th November 12:12am </h1></center><b>\n",
    "<br>\n",
    "This is a group assignment for ECON3203 with the following members: Dong (Tony) Min, Joseph Chung, Min-Sik Son, Seoyeon Park.\n",
    "<br>\n",
    "<br>\n",
    "<center>    Today is Tony's birthday! Happy 21st birthday Tony! </center>\n",
    "\n",
    "<a class=\"buttom\" href=\"#Task-Overview\">Task Overview</a> <br>\n",
    "<a class=\"buttom\" href=\"#Exploratory-Data-Analysis\">Exploratory Data Analysis</a> <br>\n",
    "<a class=\"buttom\" href=\"#Splitting-Training-and-Testing-Data\">Splitting Training and Testing Data</a> <br>\n",
    "<a class=\"buttom\" href=\"#Adding-Interaction-Terms\">Adding Interaction Terms</a> <br>\n",
    "<a class=\"buttom\" href=\"#Standardisation\">Standardisation</a> <br>\n",
    "<a class=\"buttom\" href=\"#Multiple-Linear-Regression-Model\">Multiple Linear Regression Model</a> <br>\n",
    "<a class=\"buttom\" href=\"#Lasso,-Ridge-and-ElasticNet\">Lasso, Ridge and ElasticNet</a>\n",
    "- <a class=\"buttom\" href=\"#Lasso\">Lasso</a> <br>\n",
    "- <a class=\"buttom\" href=\"#Ridge\">Ridge</a> <br>\n",
    "- <a class=\"buttom\" href=\"#ElasticNet\">ElasticNet</a> <br>\n",
    "- <a class=\"buttom\" href=\"#Lasso,-Ridge,-ElasticNet-CV-Results\">Lasso, Ridge, ElasticNet CV Results</a>\n",
    "\n",
    "<a class=\"buttom\" href=\"#K-Nearest-Neighbours-Model\">K-Nearest Neighbours Model</a> <br>\n",
    "    <br>"
   ]
  },
  {
   "cell_type": "markdown",
   "metadata": {
    "id": "33393417"
   },
   "source": [
    "# Task Overview"
   ]
  },
  {
   "cell_type": "markdown",
   "metadata": {
    "id": "3d19384f"
   },
   "source": [
    "Developing a predictive model for ATM cash demand is an important task for every bank. Suppose that you are employed by a bank, and your task is to optimise the bank’s cash management by making smarter decisions about reloading its ATM network. <br> <br>\n",
    "Your task is to develop a model for predicting the cash demand Withdraw based on the covariates."
   ]
  },
  {
   "cell_type": "markdown",
   "metadata": {
    "id": "afc926da"
   },
   "source": [
    "# Exploratory Data Analysis"
   ]
  },
  {
   "cell_type": "markdown",
   "metadata": {
    "id": "6fd98162"
   },
   "source": [
    "Load the given training dataset."
   ]
  },
  {
   "cell_type": "code",
   "execution_count": 13,
   "metadata": {
    "colab": {
     "base_uri": "https://localhost:8080/",
     "height": 204
    },
    "executionInfo": {
     "elapsed": 297,
     "status": "ok",
     "timestamp": 1636605612934,
     "user": {
      "displayName": "Tony Min",
      "photoUrl": "https://lh3.googleusercontent.com/a-/AOh14Gg5MsZbgiTeGaPQQovVYDL-Kj_wJF0AigwiaDOT=s64",
      "userId": "09511890862251663665"
     },
     "user_tz": -660
    },
    "id": "5cea02f1",
    "outputId": "494328dd-740b-42a3-e78b-b391b9424f4a"
   },
   "outputs": [
    {
     "data": {
      "text/html": [
       "<div>\n",
       "<style scoped>\n",
       "    .dataframe tbody tr th:only-of-type {\n",
       "        vertical-align: middle;\n",
       "    }\n",
       "\n",
       "    .dataframe tbody tr th {\n",
       "        vertical-align: top;\n",
       "    }\n",
       "\n",
       "    .dataframe thead th {\n",
       "        text-align: right;\n",
       "    }\n",
       "</style>\n",
       "<table border=\"1\" class=\"dataframe\">\n",
       "  <thead>\n",
       "    <tr style=\"text-align: right;\">\n",
       "      <th></th>\n",
       "      <th>Shops</th>\n",
       "      <th>ATMs</th>\n",
       "      <th>Downtown</th>\n",
       "      <th>Weekday</th>\n",
       "      <th>Center</th>\n",
       "      <th>High</th>\n",
       "      <th>Withdraw</th>\n",
       "    </tr>\n",
       "  </thead>\n",
       "  <tbody>\n",
       "    <tr>\n",
       "      <th>0</th>\n",
       "      <td>10.18</td>\n",
       "      <td>10</td>\n",
       "      <td>1</td>\n",
       "      <td>0</td>\n",
       "      <td>0</td>\n",
       "      <td>0</td>\n",
       "      <td>72.750556</td>\n",
       "    </tr>\n",
       "    <tr>\n",
       "      <th>1</th>\n",
       "      <td>9.74</td>\n",
       "      <td>10</td>\n",
       "      <td>1</td>\n",
       "      <td>1</td>\n",
       "      <td>0</td>\n",
       "      <td>0</td>\n",
       "      <td>66.720482</td>\n",
       "    </tr>\n",
       "    <tr>\n",
       "      <th>2</th>\n",
       "      <td>0.96</td>\n",
       "      <td>2</td>\n",
       "      <td>0</td>\n",
       "      <td>0</td>\n",
       "      <td>0</td>\n",
       "      <td>1</td>\n",
       "      <td>19.189516</td>\n",
       "    </tr>\n",
       "    <tr>\n",
       "      <th>3</th>\n",
       "      <td>9.58</td>\n",
       "      <td>9</td>\n",
       "      <td>1</td>\n",
       "      <td>1</td>\n",
       "      <td>0</td>\n",
       "      <td>1</td>\n",
       "      <td>67.388669</td>\n",
       "    </tr>\n",
       "    <tr>\n",
       "      <th>4</th>\n",
       "      <td>1.03</td>\n",
       "      <td>4</td>\n",
       "      <td>0</td>\n",
       "      <td>1</td>\n",
       "      <td>0</td>\n",
       "      <td>1</td>\n",
       "      <td>15.813127</td>\n",
       "    </tr>\n",
       "  </tbody>\n",
       "</table>\n",
       "</div>"
      ],
      "text/plain": [
       "   Shops  ATMs  Downtown  Weekday  Center  High   Withdraw\n",
       "0  10.18    10         1        0       0     0  72.750556\n",
       "1   9.74    10         1        1       0     0  66.720482\n",
       "2   0.96     2         0        0       0     1  19.189516\n",
       "3   9.58     9         1        1       0     1  67.388669\n",
       "4   1.03     4         0        1       0     1  15.813127"
      ]
     },
     "execution_count": 13,
     "metadata": {},
     "output_type": "execute_result"
    }
   ],
   "source": [
    "import pandas as pd\n",
    "import numpy as np\n",
    "import random\n",
    "import warnings\n",
    "\n",
    "warnings.filterwarnings('ignore')\n",
    "random.seed(10)\n",
    "data = pd.read_csv(\"ATM_training.csv\")\n",
    "data.head()"
   ]
  },
  {
   "cell_type": "markdown",
   "metadata": {
    "id": "499bd6d3"
   },
   "source": [
    "Using the .head() function we can observe the variables in our dataset. <br>\n",
    "We have a total of 7 variables in our dataset. <br> <br>\n",
    "Next let us check how many NULL values exist in our dataset."
   ]
  },
  {
   "cell_type": "code",
   "execution_count": 14,
   "metadata": {
    "colab": {
     "base_uri": "https://localhost:8080/"
    },
    "executionInfo": {
     "elapsed": 299,
     "status": "ok",
     "timestamp": 1636605635799,
     "user": {
      "displayName": "Tony Min",
      "photoUrl": "https://lh3.googleusercontent.com/a-/AOh14Gg5MsZbgiTeGaPQQovVYDL-Kj_wJF0AigwiaDOT=s64",
      "userId": "09511890862251663665"
     },
     "user_tz": -660
    },
    "id": "423e4e52",
    "outputId": "7f188e38-c9b6-464a-8e1c-f70b6960ae98"
   },
   "outputs": [
    {
     "data": {
      "text/plain": [
       "Shops       0\n",
       "ATMs        0\n",
       "Downtown    0\n",
       "Weekday     0\n",
       "Center      0\n",
       "High        0\n",
       "Withdraw    0\n",
       "dtype: int64"
      ]
     },
     "execution_count": 14,
     "metadata": {},
     "output_type": "execute_result"
    }
   ],
   "source": [
    "data.isnull().sum()"
   ]
  },
  {
   "cell_type": "markdown",
   "metadata": {
    "id": "b3ded3be"
   },
   "source": [
    "From the results above, we can see that no NULL values exist in our dataset and thus, we do not need to clean the dataset."
   ]
  },
  {
   "cell_type": "markdown",
   "metadata": {},
   "source": [
    "# Splitting Training and Testing Data"
   ]
  },
  {
   "cell_type": "code",
   "execution_count": 15,
   "metadata": {},
   "outputs": [],
   "source": [
    "train = data.sample(frac = 0.7, random_state = 1)\n",
    "test = data[data.index.isin(train.index) == False].copy()"
   ]
  },
  {
   "cell_type": "markdown",
   "metadata": {},
   "source": [
    "# Adding Interaction Terms"
   ]
  },
  {
   "cell_type": "markdown",
   "metadata": {},
   "source": [
    "Observe the correlation of features from the dataset. We'll have a look at the correlation between our response 'Withdraw' with the other independent variables."
   ]
  },
  {
   "cell_type": "code",
   "execution_count": 16,
   "metadata": {},
   "outputs": [
    {
     "name": "stdout",
     "output_type": "stream",
     "text": [
      "Shops       0.985797\n",
      "ATMs        0.824030\n",
      "Downtown    0.983574\n",
      "Weekday    -0.050470\n",
      "Center      0.088103\n",
      "High        0.021275\n",
      "Withdraw    1.000000\n",
      "Name: Withdraw, dtype: float64\n"
     ]
    }
   ],
   "source": [
    "correlations = data.corr()\n",
    "print(correlations.iloc[:, 6])"
   ]
  },
  {
   "cell_type": "markdown",
   "metadata": {},
   "source": [
    "From these predictors, it seems 'Shops, ATMs, Downtown' have considerably large linear sample correlations with 'Withdraw'."
   ]
  },
  {
   "cell_type": "markdown",
   "metadata": {},
   "source": [
    "But should we really include all these features into our model? Let's take a look at the correlation matrix."
   ]
  },
  {
   "cell_type": "code",
   "execution_count": 17,
   "metadata": {},
   "outputs": [
    {
     "data": {
      "text/html": [
       "<div>\n",
       "<style scoped>\n",
       "    .dataframe tbody tr th:only-of-type {\n",
       "        vertical-align: middle;\n",
       "    }\n",
       "\n",
       "    .dataframe tbody tr th {\n",
       "        vertical-align: top;\n",
       "    }\n",
       "\n",
       "    .dataframe thead th {\n",
       "        text-align: right;\n",
       "    }\n",
       "</style>\n",
       "<table border=\"1\" class=\"dataframe\">\n",
       "  <thead>\n",
       "    <tr style=\"text-align: right;\">\n",
       "      <th></th>\n",
       "      <th>Shops</th>\n",
       "      <th>ATMs</th>\n",
       "      <th>Downtown</th>\n",
       "      <th>Weekday</th>\n",
       "      <th>Center</th>\n",
       "      <th>High</th>\n",
       "      <th>Withdraw</th>\n",
       "    </tr>\n",
       "  </thead>\n",
       "  <tbody>\n",
       "    <tr>\n",
       "      <th>Shops</th>\n",
       "      <td>1.000000</td>\n",
       "      <td>0.872903</td>\n",
       "      <td>0.999131</td>\n",
       "      <td>0.013014</td>\n",
       "      <td>0.000004</td>\n",
       "      <td>0.001820</td>\n",
       "      <td>0.985797</td>\n",
       "    </tr>\n",
       "    <tr>\n",
       "      <th>ATMs</th>\n",
       "      <td>0.872903</td>\n",
       "      <td>1.000000</td>\n",
       "      <td>0.873726</td>\n",
       "      <td>0.009766</td>\n",
       "      <td>-0.003306</td>\n",
       "      <td>-0.002616</td>\n",
       "      <td>0.824030</td>\n",
       "    </tr>\n",
       "    <tr>\n",
       "      <th>Downtown</th>\n",
       "      <td>0.999131</td>\n",
       "      <td>0.873726</td>\n",
       "      <td>1.000000</td>\n",
       "      <td>0.012664</td>\n",
       "      <td>-0.000101</td>\n",
       "      <td>0.001782</td>\n",
       "      <td>0.983574</td>\n",
       "    </tr>\n",
       "    <tr>\n",
       "      <th>Weekday</th>\n",
       "      <td>0.013014</td>\n",
       "      <td>0.009766</td>\n",
       "      <td>0.012664</td>\n",
       "      <td>1.000000</td>\n",
       "      <td>-0.007153</td>\n",
       "      <td>-0.006793</td>\n",
       "      <td>-0.050470</td>\n",
       "    </tr>\n",
       "    <tr>\n",
       "      <th>Center</th>\n",
       "      <td>0.000004</td>\n",
       "      <td>-0.003306</td>\n",
       "      <td>-0.000101</td>\n",
       "      <td>-0.007153</td>\n",
       "      <td>1.000000</td>\n",
       "      <td>0.010521</td>\n",
       "      <td>0.088103</td>\n",
       "    </tr>\n",
       "    <tr>\n",
       "      <th>High</th>\n",
       "      <td>0.001820</td>\n",
       "      <td>-0.002616</td>\n",
       "      <td>0.001782</td>\n",
       "      <td>-0.006793</td>\n",
       "      <td>0.010521</td>\n",
       "      <td>1.000000</td>\n",
       "      <td>0.021275</td>\n",
       "    </tr>\n",
       "    <tr>\n",
       "      <th>Withdraw</th>\n",
       "      <td>0.985797</td>\n",
       "      <td>0.824030</td>\n",
       "      <td>0.983574</td>\n",
       "      <td>-0.050470</td>\n",
       "      <td>0.088103</td>\n",
       "      <td>0.021275</td>\n",
       "      <td>1.000000</td>\n",
       "    </tr>\n",
       "  </tbody>\n",
       "</table>\n",
       "</div>"
      ],
      "text/plain": [
       "             Shops      ATMs  Downtown   Weekday    Center      High  Withdraw\n",
       "Shops     1.000000  0.872903  0.999131  0.013014  0.000004  0.001820  0.985797\n",
       "ATMs      0.872903  1.000000  0.873726  0.009766 -0.003306 -0.002616  0.824030\n",
       "Downtown  0.999131  0.873726  1.000000  0.012664 -0.000101  0.001782  0.983574\n",
       "Weekday   0.013014  0.009766  0.012664  1.000000 -0.007153 -0.006793 -0.050470\n",
       "Center    0.000004 -0.003306 -0.000101 -0.007153  1.000000  0.010521  0.088103\n",
       "High      0.001820 -0.002616  0.001782 -0.006793  0.010521  1.000000  0.021275\n",
       "Withdraw  0.985797  0.824030  0.983574 -0.050470  0.088103  0.021275  1.000000"
      ]
     },
     "execution_count": 17,
     "metadata": {},
     "output_type": "execute_result"
    }
   ],
   "source": [
    "correlations"
   ]
  },
  {
   "cell_type": "markdown",
   "metadata": {},
   "source": [
    "If we have a look at the correlation between 'Shops' and 'Downtown', there is a very high correlation between these two features. Similarly for 'Downtown' and 'ATMs'. Including these features could overfit our model and raise issue to multicollinearity. So how do we deal with this problem?"
   ]
  },
  {
   "cell_type": "markdown",
   "metadata": {},
   "source": [
    "For now, Shops, Downtown, ATMs are highly correlated predictors so we will now attempt to create interaction terms with them."
   ]
  },
  {
   "cell_type": "markdown",
   "metadata": {},
   "source": [
    "Common interaction terms are $X^2$ and $XY$."
   ]
  },
  {
   "cell_type": "markdown",
   "metadata": {},
   "source": [
    "However, for example, the predictor 'Downtown_SQ' will not be used as it is identical to the predictor 'Downtown'. <br>\n",
    "e.g. $0 = 0\\times0$ <br>\n",
    "e.g. $1 = 1\\times1$"
   ]
  },
  {
   "cell_type": "markdown",
   "metadata": {},
   "source": [
    "Adding interaction terms to both the training and testing set:"
   ]
  },
  {
   "cell_type": "code",
   "execution_count": 18,
   "metadata": {},
   "outputs": [],
   "source": [
    "train['Shops_ATM'] = train['Shops'] * train['ATMs']\n",
    "train['Shops_Down'] = train['Shops'] * train['Downtown']\n",
    "train['Down_ATM'] = train['Downtown'] * train['ATMs']\n",
    "\n",
    "train['Shops_SQ'] = train['Shops'] * train['Shops']\n",
    "train['ATM_SQ'] = train['ATMs'] * train['ATMs']"
   ]
  },
  {
   "cell_type": "code",
   "execution_count": 19,
   "metadata": {},
   "outputs": [],
   "source": [
    "test['Shops_ATM'] = test['Shops'] * test['ATMs']\n",
    "test['Shops_Down'] = test['Shops'] * test['Downtown']\n",
    "test['Down_ATM'] = test['Downtown'] * test['ATMs']\n",
    "\n",
    "test['Shops_SQ'] = test['Shops'] * test['Shops']\n",
    "test['ATM_SQ'] = test['ATMs'] * test['ATMs']"
   ]
  },
  {
   "cell_type": "markdown",
   "metadata": {},
   "source": [
    "Create a copy of the unstandardised training and testing dataset used later:"
   ]
  },
  {
   "cell_type": "code",
   "execution_count": 20,
   "metadata": {},
   "outputs": [],
   "source": [
    "train_copy = train.copy()\n",
    "test_copy = test.copy()"
   ]
  },
  {
   "cell_type": "markdown",
   "metadata": {},
   "source": [
    "# Standardisation"
   ]
  },
  {
   "cell_type": "markdown",
   "metadata": {},
   "source": [
    "We want to standardise predictors in our model so that we can put different variables on the same scale. This allows you to compare scores between different types of variables. This will require us to achieve zero mean and unit standard deviation after standardisation."
   ]
  },
  {
   "cell_type": "code",
   "execution_count": 21,
   "metadata": {},
   "outputs": [
    {
     "name": "stdout",
     "output_type": "stream",
     "text": [
      "Numerical predictors in Model are:\n",
      "['Shops', 'ATMs', 'Downtown', 'Weekday', 'Center', 'High', 'Shops_ATM', 'Shops_Down', 'Down_ATM', 'Shops_SQ', 'ATM_SQ']\n"
     ]
    }
   ],
   "source": [
    "response = ['Withdraw']\n",
    "predictors = [x for x in list(train.columns) if x not in response]\n",
    "mu = train[predictors].mean()\n",
    "sigma = train[predictors].std()\n",
    "print(\"Numerical predictors in Model are:\")\n",
    "print(predictors)"
   ]
  },
  {
   "cell_type": "markdown",
   "metadata": {},
   "source": [
    "Mean and standard deviation of each numerical predictor in model before standardisation:"
   ]
  },
  {
   "cell_type": "code",
   "execution_count": 22,
   "metadata": {},
   "outputs": [
    {
     "name": "stdout",
     "output_type": "stream",
     "text": [
      "Mean for each numerical predictor:\n",
      "Shops          7.301158\n",
      "ATMs           7.915065\n",
      "Downtown       0.700325\n",
      "Weekday        0.713766\n",
      "Center         0.103312\n",
      "High           0.302987\n",
      "Shops_ATM     70.981819\n",
      "Shops_Down     7.001469\n",
      "Down_ATM       7.009545\n",
      "Shops_SQ      70.325855\n",
      "ATM_SQ        76.076623\n",
      "dtype: float64\n",
      "\n",
      "\n",
      "Standard deviation for each numerical predictor:\n",
      "Shops          4.125536\n",
      "ATMs           3.664593\n",
      "Downtown       0.458131\n",
      "Weekday        0.452015\n",
      "Center         0.304375\n",
      "High           0.459565\n",
      "Shops_ATM     47.600942\n",
      "Shops_Down     4.583251\n",
      "Down_ATM       4.887630\n",
      "Shops_SQ      45.474419\n",
      "ATM_SQ        55.164696\n",
      "dtype: float64\n"
     ]
    }
   ],
   "source": [
    "print(\"Mean for each numerical predictor:\")\n",
    "print(mu)\n",
    "print(\"\\n\")\n",
    "print(\"Standard deviation for each numerical predictor:\")\n",
    "print(sigma)"
   ]
  },
  {
   "cell_type": "markdown",
   "metadata": {},
   "source": [
    "Standardise the predictors in both training and test data. Note we must use the same mean and standard deviation calculated based on the training data."
   ]
  },
  {
   "cell_type": "code",
   "execution_count": 23,
   "metadata": {},
   "outputs": [],
   "source": [
    "train[predictors]=(train[predictors]-mu)/sigma\n",
    "test[predictors]=(test[predictors]-mu)/sigma"
   ]
  },
  {
   "cell_type": "markdown",
   "metadata": {},
   "source": [
    "Mean and standard deviation of each numerical predictor in model after standardisation:"
   ]
  },
  {
   "cell_type": "code",
   "execution_count": 24,
   "metadata": {},
   "outputs": [
    {
     "name": "stdout",
     "output_type": "stream",
     "text": [
      "Mean for each numerical predictor:\n",
      "Shops         6.057701e-15\n",
      "ATMs         -2.753930e-18\n",
      "Downtown     -4.811447e-16\n",
      "Weekday       6.459479e-16\n",
      "Center       -4.218127e-17\n",
      "High          5.074152e-16\n",
      "Shops_ATM     1.554817e-15\n",
      "Shops_Down    4.213873e-16\n",
      "Down_ATM     -2.928393e-16\n",
      "Shops_SQ     -4.303519e-14\n",
      "ATM_SQ        7.354867e-17\n",
      "dtype: float64\n",
      "\n",
      "\n",
      "Standard deviation for each numerical predictor:\n",
      "Shops         1.0\n",
      "ATMs          1.0\n",
      "Downtown      1.0\n",
      "Weekday       1.0\n",
      "Center        1.0\n",
      "High          1.0\n",
      "Shops_ATM     1.0\n",
      "Shops_Down    1.0\n",
      "Down_ATM      1.0\n",
      "Shops_SQ      1.0\n",
      "ATM_SQ        1.0\n",
      "dtype: float64\n"
     ]
    }
   ],
   "source": [
    "print(\"Mean for each numerical predictor:\")\n",
    "print(train[predictors].mean())\n",
    "print(\"\\n\")\n",
    "print(\"Standard deviation for each numerical predictor:\")\n",
    "print(train[predictors].std())"
   ]
  },
  {
   "cell_type": "markdown",
   "metadata": {},
   "source": [
    "As shown above, we have succesfully standardised the data with zero mean and unit standard deviation for each numerical predictor."
   ]
  },
  {
   "cell_type": "markdown",
   "metadata": {},
   "source": [
    "# Multiple Linear Regression Model"
   ]
  },
  {
   "cell_type": "markdown",
   "metadata": {},
   "source": [
    "For now, we will run a regression with a formula that contains the response 'Withdrawn', and the predictor variables 'Shops', 'ATMs', 'Downtown', 'Weekday', 'Center' and 'High'."
   ]
  },
  {
   "cell_type": "code",
   "execution_count": 25,
   "metadata": {},
   "outputs": [
    {
     "name": "stdout",
     "output_type": "stream",
     "text": [
      "                            OLS Regression Results                            \n",
      "==============================================================================\n",
      "Dep. Variable:               Withdraw   R-squared:                       0.990\n",
      "Model:                            OLS   Adj. R-squared:                  0.990\n",
      "Method:                 Least Squares   F-statistic:                 2.542e+05\n",
      "Date:                Tue, 30 Nov 2021   Prob (F-statistic):               0.00\n",
      "Time:                        19:39:05   Log-Likelihood:                -36054.\n",
      "No. Observations:               15400   AIC:                         7.212e+04\n",
      "Df Residuals:                   15393   BIC:                         7.218e+04\n",
      "Df Model:                           6                                         \n",
      "Covariance Type:            nonrobust                                         \n",
      "==============================================================================\n",
      "                 coef    std err          t      P>|t|      [0.025      0.975]\n",
      "------------------------------------------------------------------------------\n",
      "Intercept     54.5864      0.020   2692.881      0.000      54.547      54.626\n",
      "Shops         44.8573      0.489     91.711      0.000      43.899      45.816\n",
      "ATMs          -3.7446      0.042    -89.911      0.000      -3.826      -3.663\n",
      "Downtown     -16.7871      0.491    -34.215      0.000     -17.749     -15.825\n",
      "Weekday       -1.5951      0.020    -78.674      0.000      -1.635      -1.555\n",
      "Center         2.1982      0.020    108.420      0.000       2.158       2.238\n",
      "High           0.4355      0.020     21.482      0.000       0.396       0.475\n",
      "==============================================================================\n",
      "Omnibus:                    12276.887   Durbin-Watson:                   2.015\n",
      "Prob(Omnibus):                  0.000   Jarque-Bera (JB):           312019.589\n",
      "Skew:                           3.724   Prob(JB):                         0.00\n",
      "Kurtosis:                      23.756   Cond. No.                         57.5\n",
      "==============================================================================\n",
      "\n",
      "Notes:\n",
      "[1] Standard Errors assume that the covariance matrix of the errors is correctly specified.\n"
     ]
    }
   ],
   "source": [
    "import statsmodels.formula.api as smf\n",
    "formula = \"Withdraw ~ Shops + ATMs + Downtown + Weekday + Center + High\"\n",
    "model_formula = smf.ols(formula = formula, data = train)\n",
    "results_formula = model_formula.fit()\n",
    "print(results_formula.summary())"
   ]
  },
  {
   "cell_type": "markdown",
   "metadata": {},
   "source": [
    "Notice that our predictor p-values are extremely small (i.e really close to 0), meaning we reject the null hypotheses at a 0.05 level of significance. Also our R-squared value is very high at 0.990, which may indicate an issue with multicollinearity. This is because a good R-squared value does not necessarily imply a good model fit."
   ]
  },
  {
   "cell_type": "code",
   "execution_count": 23,
   "metadata": {},
   "outputs": [
    {
     "name": "stdout",
     "output_type": "stream",
     "text": [
      "                            OLS Regression Results                            \n",
      "==============================================================================\n",
      "Dep. Variable:               Withdraw   R-squared:                       0.990\n",
      "Model:                            OLS   Adj. R-squared:                  0.990\n",
      "Method:                 Least Squares   F-statistic:                 1.401e+05\n",
      "Date:                Tue, 30 Nov 2021   Prob (F-statistic):               0.00\n",
      "Time:                        18:43:53   Log-Likelihood:                -35975.\n",
      "No. Observations:               15400   AIC:                         7.197e+04\n",
      "Df Residuals:                   15388   BIC:                         7.207e+04\n",
      "Df Model:                          11                                         \n",
      "Covariance Type:            nonrobust                                         \n",
      "==============================================================================\n",
      "                 coef    std err          t      P>|t|      [0.025      0.975]\n",
      "------------------------------------------------------------------------------\n",
      "Intercept     54.5864      0.020   2706.308      0.000      54.547      54.626\n",
      "Shops         10.7079      4.660      2.298      0.022       1.573      19.843\n",
      "ATMs          -3.4032      0.268    -12.675      0.000      -3.929      -2.877\n",
      "Downtown     -37.7052     19.239     -1.960      0.050     -75.415       0.005\n",
      "Weekday       -1.5937      0.020    -78.980      0.000      -1.633      -1.554\n",
      "Center         2.1982      0.020    108.956      0.000       2.159       2.238\n",
      "High           0.4341      0.020     21.515      0.000       0.395       0.474\n",
      "Shops_SQ     -13.8475     19.066     -0.726      0.468     -51.219      23.524\n",
      "ATM_SQ        -0.1621      0.228     -0.711      0.477      -0.609       0.285\n",
      "Shops_ATM     -1.9575      2.800     -0.699      0.485      -7.447       3.532\n",
      "Shops_Down    68.8390     34.824      1.977      0.048       0.580     137.099\n",
      "Down_ATM       1.8246      2.612      0.699      0.485      -3.295       6.944\n",
      "==============================================================================\n",
      "Omnibus:                    12419.528   Durbin-Watson:                   2.017\n",
      "Prob(Omnibus):                  0.000   Jarque-Bera (JB):           324917.302\n",
      "Skew:                           3.779   Prob(JB):                         0.00\n",
      "Kurtosis:                      24.195   Cond. No.                     5.99e+03\n",
      "==============================================================================\n",
      "\n",
      "Notes:\n",
      "[1] Standard Errors assume that the covariance matrix of the errors is correctly specified.\n",
      "[2] The condition number is large, 5.99e+03. This might indicate that there are\n",
      "strong multicollinearity or other numerical problems.\n"
     ]
    }
   ],
   "source": [
    "import statsmodels.formula.api as smf\n",
    "formula = \"Withdraw ~ Shops + ATMs + Downtown + Weekday + Center + High + Shops_SQ + ATM_SQ + Shops_ATM + Shops_Down + Down_ATM\"\n",
    "model_formula = smf.ols(formula = formula, data = train)\n",
    "results_formula = model_formula.fit()\n",
    "print(results_formula.summary())"
   ]
  },
  {
   "cell_type": "markdown",
   "metadata": {},
   "source": [
    "Unlike before, the model containing all covariates (including interaction terms) has insiginficant features. We observe that the feature 'Shops_SQ' is irrelavant in the presence of all other predictors because the p-value = 0.468 > 0.05, where the level of significance is 0.05. <br>\n",
    "Similarly, we can say the same for predictors 'Downtown', 'ATM_SQ', 'Shops_ATM' and 'Down_ATM'. This implies that we are most likely overfitting our model and at least one feature is irrelevant in the model."
   ]
  },
  {
   "cell_type": "markdown",
   "metadata": {},
   "source": [
    "Function for the MSE computation of MLR mdoel:"
   ]
  },
  {
   "cell_type": "code",
   "execution_count": 24,
   "metadata": {},
   "outputs": [],
   "source": [
    "from sklearn.linear_model import LinearRegression\n",
    "from sklearn import metrics\n",
    "def mlr_test(predictors, response):\n",
    "    linreg = LinearRegression()\n",
    "    linreg.fit(train[predictors], np.ravel(train[response]))\n",
    "    y_pred = linreg.predict(test[predictors])\n",
    "    mse = metrics.mean_squared_error(test[response], y_pred)\n",
    "    return mse"
   ]
  },
  {
   "cell_type": "markdown",
   "metadata": {},
   "source": [
    "Performing Forward-stepwise selection we will add one predictor at a time and observe a decrease in the Test MSE:"
   ]
  },
  {
   "cell_type": "code",
   "execution_count": 16,
   "metadata": {},
   "outputs": [
    {
     "name": "stdout",
     "output_type": "stream",
     "text": [
      "Test MSE : 16.9889\n"
     ]
    }
   ],
   "source": [
    "response='Withdraw'\n",
    "predictors=['Shops']\n",
    "mse  =  mlr_test(predictors, response) \n",
    "print('Test MSE : {}'.format(mse.round(4)))"
   ]
  },
  {
   "cell_type": "code",
   "execution_count": 17,
   "metadata": {},
   "outputs": [
    {
     "name": "stdout",
     "output_type": "stream",
     "text": [
      "Test MSE : 13.7953\n"
     ]
    }
   ],
   "source": [
    "response='Withdraw'\n",
    "predictors=['Shops', 'ATMs']\n",
    "mse  =  mlr_test(predictors, response) \n",
    "print('Test MSE : {}'.format(mse.round(4)))"
   ]
  },
  {
   "cell_type": "code",
   "execution_count": 18,
   "metadata": {},
   "outputs": [
    {
     "name": "stdout",
     "output_type": "stream",
     "text": [
      "Test MSE : 13.3329\n"
     ]
    }
   ],
   "source": [
    "response='Withdraw'\n",
    "predictors=['Shops','ATMs', 'Downtown']\n",
    "mse  =  mlr_test(predictors, response) \n",
    "print('Test MSE : {}'.format(mse.round(4)))"
   ]
  },
  {
   "cell_type": "code",
   "execution_count": 19,
   "metadata": {},
   "outputs": [
    {
     "name": "stdout",
     "output_type": "stream",
     "text": [
      "Test MSE : 10.9041\n"
     ]
    }
   ],
   "source": [
    "response='Withdraw'\n",
    "predictors=['Shops','ATMs', 'Downtown', 'Weekday']\n",
    "mse  =  mlr_test(predictors, response) \n",
    "print('Test MSE : {}'.format(mse.round(4)))"
   ]
  },
  {
   "cell_type": "code",
   "execution_count": 20,
   "metadata": {},
   "outputs": [
    {
     "name": "stdout",
     "output_type": "stream",
     "text": [
      "Test MSE : 6.2874\n"
     ]
    }
   ],
   "source": [
    "response='Withdraw'\n",
    "predictors=['Shops','ATMs', 'Downtown', 'Weekday', 'Center']\n",
    "mse  =  mlr_test(predictors, response) \n",
    "print('Test MSE : {}'.format(mse.round(4)))"
   ]
  },
  {
   "cell_type": "markdown",
   "metadata": {},
   "source": [
    "Note, the model with all predictors below returns the lowest Test MSE currently."
   ]
  },
  {
   "cell_type": "code",
   "execution_count": 21,
   "metadata": {},
   "outputs": [
    {
     "name": "stdout",
     "output_type": "stream",
     "text": [
      "Test MSE : 6.0872\n"
     ]
    }
   ],
   "source": [
    "response='Withdraw'\n",
    "predictors=['Shops','ATMs', 'Downtown', 'Weekday', 'Center', 'High']\n",
    "mse  =  mlr_test(predictors, response) \n",
    "print('Test MSE : {}'.format(mse.round(4)))"
   ]
  },
  {
   "cell_type": "markdown",
   "metadata": {},
   "source": [
    "Now we will add our interaction terms to the model above:"
   ]
  },
  {
   "cell_type": "code",
   "execution_count": 22,
   "metadata": {},
   "outputs": [
    {
     "name": "stdout",
     "output_type": "stream",
     "text": [
      "Test MSE : 6.0336\n"
     ]
    }
   ],
   "source": [
    "response='Withdraw'\n",
    "predictors=['Shops','ATMs', 'Downtown', 'Weekday', 'Center', 'High', 'Shops_SQ']\n",
    "mse  =  mlr_test(predictors, response) \n",
    "print('Test MSE : {}'.format(mse.round(4)))\n",
    "\n",
    "# Test MSE when adding Shops_ATM: 6.0875\n",
    "# Test MSE when adding Shops_Down: 6.0349\n",
    "# Test MSE when adding Down_ATM: 6.0877\n",
    "# Test MSE when adding Shops_SQ: 6.0336\n",
    "# Test MSE when adding ATM_SQ: 6.0872"
   ]
  },
  {
   "cell_type": "code",
   "execution_count": 23,
   "metadata": {},
   "outputs": [
    {
     "name": "stdout",
     "output_type": "stream",
     "text": [
      "Test MSE : 6.03353\n"
     ]
    }
   ],
   "source": [
    "response='Withdraw'\n",
    "predictors=['Shops','ATMs', 'Downtown', 'Weekday', 'Center', 'High', 'Shops_SQ', 'ATM_SQ']\n",
    "mse  =  mlr_test(predictors, response) \n",
    "print('Test MSE : {}'.format(mse.round(5)))\n",
    "\n",
    "# Test MSE when adding Shops_ATM: 6.0339\n",
    "# Test MSE when adding Shops_Down: 6.0362\n",
    "# Test MSE when adding Down_ATM: 6.034\n",
    "# Test MSE when adding ATM_SQ: 6.0335"
   ]
  },
  {
   "cell_type": "code",
   "execution_count": 24,
   "metadata": {},
   "outputs": [
    {
     "name": "stdout",
     "output_type": "stream",
     "text": [
      "Test MSE : 6.033497\n"
     ]
    }
   ],
   "source": [
    "response='Withdraw'\n",
    "predictors=['Shops','ATMs', 'Downtown', 'Weekday', 'Center', 'High', 'Shops_SQ', 'ATM_SQ', 'Down_ATM']\n",
    "mse  =  mlr_test(predictors, response) \n",
    "print('Test MSE : {}'.format(mse.round(6)))\n",
    "\n",
    "# Test MSE when adding Shops_ATM: 6.0336\n",
    "# Test MSE when adding Shops_Down: 6.036\n",
    "# Test MSE when adding Down_ATM: 6.0335"
   ]
  },
  {
   "cell_type": "code",
   "execution_count": 25,
   "metadata": {},
   "outputs": [
    {
     "name": "stdout",
     "output_type": "stream",
     "text": [
      "Test MSE : 6.032715\n"
     ]
    }
   ],
   "source": [
    "response='Withdraw'\n",
    "predictors=['Shops','ATMs', 'Downtown', 'Weekday', 'Center', 'High', 'Shops_SQ', 'ATM_SQ', 'Down_ATM', 'Shops_ATM']\n",
    "mse  =  mlr_test(predictors, response) \n",
    "print('Test MSE : {}'.format(mse.round(6)))\n",
    "\n",
    "# Test MSE when adding Shops_ATM: 6.0336\n",
    "# Test MSE when adding Shops_Down: 6.036"
   ]
  },
  {
   "cell_type": "code",
   "execution_count": 26,
   "metadata": {},
   "outputs": [
    {
     "name": "stdout",
     "output_type": "stream",
     "text": [
      "Test MSE : 6.03513\n"
     ]
    }
   ],
   "source": [
    "response='Withdraw'\n",
    "predictors=['Shops','ATMs', 'Downtown', 'Weekday', 'Center', 'High', 'Shops_SQ', 'ATM_SQ', 'Down_ATM', 'Shops_ATM', 'Shops_Down']\n",
    "mse  =  mlr_test(predictors, response) \n",
    "print('Test MSE : {}'.format(mse.round(5)))"
   ]
  },
  {
   "cell_type": "markdown",
   "metadata": {},
   "source": [
    "As shown above, using Forward-stepwise selection, we observe that the best MLR model is <br>\n",
    "Withdraw ~ Shops + ATMs + Downtown + Weekday + Center + High + Shops_SQ + ATM_SQ + Down_ATM + Shops_ATM <br>\n",
    "which has the lowest Test MSE of 6.032715"
   ]
  },
  {
   "cell_type": "markdown",
   "metadata": {
    "id": "51be8d55"
   },
   "source": [
    "# Lasso, Ridge and ElasticNet"
   ]
  },
  {
   "cell_type": "markdown",
   "metadata": {
    "id": "04298fb4"
   },
   "source": [
    "To improve the model above, we will use methods like Lasso, Ridge and ElasticNet to remove/minimise irrelevant features in our model. After comparing the MSE of each method, we will choose the optimal model created from the optimal tuning parameter."
   ]
  },
  {
   "cell_type": "markdown",
   "metadata": {
    "id": "07e118ca"
   },
   "source": [
    "### Lasso"
   ]
  },
  {
   "cell_type": "markdown",
   "metadata": {
    "id": "8e429f49"
   },
   "source": [
    "Lasso allows the regularisation term to penalise absolute value of the coefficients as well as setting irrelevant values to 0. To find the optimal lambda for our model, we can use the LassoCV function, which is the most convenient implementation with built in CV-based model selection for tuning parameter $\\alpha$."
   ]
  },
  {
   "cell_type": "code",
   "execution_count": 27,
   "metadata": {
    "id": "3548fcba",
    "outputId": "6ab750b4-57ed-44c0-d16e-ce611c3cc490"
   },
   "outputs": [
    {
     "data": {
      "text/plain": [
       "LassoCV(cv=5)"
      ]
     },
     "execution_count": 27,
     "metadata": {},
     "output_type": "execute_result"
    }
   ],
   "source": [
    "from sklearn.linear_model import LassoCV\n",
    "from sklearn import linear_model\n",
    "import numpy as np\n",
    "lasso = LassoCV(cv=5)\n",
    "lasso.fit(train[predictors], np.ravel(train[response]))"
   ]
  },
  {
   "cell_type": "code",
   "execution_count": 28,
   "metadata": {
    "id": "d478b3a8",
    "outputId": "cd83d3f0-d30b-4080-8142-28354dc2ea5d"
   },
   "outputs": [
    {
     "name": "stdout",
     "output_type": "stream",
     "text": [
      "Optimal LASSO Lambda: 0.024813334144591075\n"
     ]
    }
   ],
   "source": [
    "print(\"Optimal LASSO Lambda: {0}\".format(lasso.alpha_))"
   ]
  },
  {
   "cell_type": "code",
   "execution_count": 29,
   "metadata": {
    "id": "54001c01",
    "outputId": "53e43ed8-868e-4121-dcfc-8fbe99fe8d9b"
   },
   "outputs": [
    {
     "data": {
      "text/html": [
       "<div>\n",
       "<style scoped>\n",
       "    .dataframe tbody tr th:only-of-type {\n",
       "        vertical-align: middle;\n",
       "    }\n",
       "\n",
       "    .dataframe tbody tr th {\n",
       "        vertical-align: top;\n",
       "    }\n",
       "\n",
       "    .dataframe thead th {\n",
       "        text-align: right;\n",
       "    }\n",
       "</style>\n",
       "<table border=\"1\" class=\"dataframe\">\n",
       "  <thead>\n",
       "    <tr style=\"text-align: right;\">\n",
       "      <th></th>\n",
       "      <th>0</th>\n",
       "    </tr>\n",
       "  </thead>\n",
       "  <tbody>\n",
       "    <tr>\n",
       "      <th>Shops</th>\n",
       "      <td>11.648</td>\n",
       "    </tr>\n",
       "    <tr>\n",
       "      <th>ATMs</th>\n",
       "      <td>-2.614</td>\n",
       "    </tr>\n",
       "    <tr>\n",
       "      <th>Downtown</th>\n",
       "      <td>0.000</td>\n",
       "    </tr>\n",
       "    <tr>\n",
       "      <th>Weekday</th>\n",
       "      <td>-1.571</td>\n",
       "    </tr>\n",
       "    <tr>\n",
       "      <th>Center</th>\n",
       "      <td>2.174</td>\n",
       "    </tr>\n",
       "    <tr>\n",
       "      <th>High</th>\n",
       "      <td>0.413</td>\n",
       "    </tr>\n",
       "    <tr>\n",
       "      <th>Shops_SQ</th>\n",
       "      <td>16.051</td>\n",
       "    </tr>\n",
       "    <tr>\n",
       "      <th>ATM_SQ</th>\n",
       "      <td>-0.781</td>\n",
       "    </tr>\n",
       "    <tr>\n",
       "      <th>Down_ATM</th>\n",
       "      <td>-0.000</td>\n",
       "    </tr>\n",
       "    <tr>\n",
       "      <th>Shops_ATM</th>\n",
       "      <td>-0.000</td>\n",
       "    </tr>\n",
       "    <tr>\n",
       "      <th>Shops_Down</th>\n",
       "      <td>0.000</td>\n",
       "    </tr>\n",
       "  </tbody>\n",
       "</table>\n",
       "</div>"
      ],
      "text/plain": [
       "                 0\n",
       "Shops       11.648\n",
       "ATMs        -2.614\n",
       "Downtown     0.000\n",
       "Weekday     -1.571\n",
       "Center       2.174\n",
       "High         0.413\n",
       "Shops_SQ    16.051\n",
       "ATM_SQ      -0.781\n",
       "Down_ATM    -0.000\n",
       "Shops_ATM   -0.000\n",
       "Shops_Down   0.000"
      ]
     },
     "execution_count": 29,
     "metadata": {},
     "output_type": "execute_result"
    }
   ],
   "source": [
    "pd.DataFrame(lasso.coef_.round(3),index = predictors)"
   ]
  },
  {
   "cell_type": "markdown",
   "metadata": {
    "id": "b356afbc"
   },
   "source": [
    "Recall earlier when we suspected an issue with multicollinearity when our predictors 'Shops' and 'Downtown' were highly correlated to each other and were possibly involved in an issue with multicollinearity. As shown above, we observe that the feature 'Downtown' has been shrinked to 0. Furthermore, other features such as 'Down_ATM', 'Shops_ATM' and 'Shops_Down' have also been shrinked to 0 and are interpreted as irrelvant features in the model."
   ]
  },
  {
   "cell_type": "markdown",
   "metadata": {
    "id": "d6ff17ee"
   },
   "source": [
    "Now that we have found our optimal lambda value for LASSO, we will run regression and fit model."
   ]
  },
  {
   "cell_type": "code",
   "execution_count": 30,
   "metadata": {
    "id": "cd87dfaf",
    "outputId": "ad6c6ac0-b934-48d5-a641-fe6d2dbb2822"
   },
   "outputs": [
    {
     "data": {
      "text/html": [
       "<div>\n",
       "<style scoped>\n",
       "    .dataframe tbody tr th:only-of-type {\n",
       "        vertical-align: middle;\n",
       "    }\n",
       "\n",
       "    .dataframe tbody tr th {\n",
       "        vertical-align: top;\n",
       "    }\n",
       "\n",
       "    .dataframe thead th {\n",
       "        text-align: right;\n",
       "    }\n",
       "</style>\n",
       "<table border=\"1\" class=\"dataframe\">\n",
       "  <thead>\n",
       "    <tr style=\"text-align: right;\">\n",
       "      <th></th>\n",
       "      <th>0</th>\n",
       "    </tr>\n",
       "  </thead>\n",
       "  <tbody>\n",
       "    <tr>\n",
       "      <th>Shops</th>\n",
       "      <td>11.649</td>\n",
       "    </tr>\n",
       "    <tr>\n",
       "      <th>ATMs</th>\n",
       "      <td>-2.615</td>\n",
       "    </tr>\n",
       "    <tr>\n",
       "      <th>Downtown</th>\n",
       "      <td>0.000</td>\n",
       "    </tr>\n",
       "    <tr>\n",
       "      <th>Weekday</th>\n",
       "      <td>-1.571</td>\n",
       "    </tr>\n",
       "    <tr>\n",
       "      <th>Center</th>\n",
       "      <td>2.174</td>\n",
       "    </tr>\n",
       "    <tr>\n",
       "      <th>High</th>\n",
       "      <td>0.413</td>\n",
       "    </tr>\n",
       "    <tr>\n",
       "      <th>Shops_SQ</th>\n",
       "      <td>16.051</td>\n",
       "    </tr>\n",
       "    <tr>\n",
       "      <th>ATM_SQ</th>\n",
       "      <td>-0.781</td>\n",
       "    </tr>\n",
       "    <tr>\n",
       "      <th>Down_ATM</th>\n",
       "      <td>-0.000</td>\n",
       "    </tr>\n",
       "    <tr>\n",
       "      <th>Shops_ATM</th>\n",
       "      <td>-0.000</td>\n",
       "    </tr>\n",
       "    <tr>\n",
       "      <th>Shops_Down</th>\n",
       "      <td>0.000</td>\n",
       "    </tr>\n",
       "  </tbody>\n",
       "</table>\n",
       "</div>"
      ],
      "text/plain": [
       "                 0\n",
       "Shops       11.649\n",
       "ATMs        -2.615\n",
       "Downtown     0.000\n",
       "Weekday     -1.571\n",
       "Center       2.174\n",
       "High         0.413\n",
       "Shops_SQ    16.051\n",
       "ATM_SQ      -0.781\n",
       "Down_ATM    -0.000\n",
       "Shops_ATM   -0.000\n",
       "Shops_Down   0.000"
      ]
     },
     "execution_count": 30,
     "metadata": {},
     "output_type": "execute_result"
    }
   ],
   "source": [
    "Lasso_reg = linear_model.Lasso(alpha=0.024798187684996222)\n",
    "Lasso_reg.fit(train[predictors], np.ravel(train[response]))\n",
    "pd.DataFrame(Lasso_reg.coef_.round(3), index = predictors)"
   ]
  },
  {
   "cell_type": "markdown",
   "metadata": {
    "id": "c7434769"
   },
   "source": [
    "### Ridge"
   ]
  },
  {
   "cell_type": "markdown",
   "metadata": {
    "id": "e1bd879d"
   },
   "source": [
    "We will do a similar process to above for Ridge regression method. Ridge penalises the size (square of the magnitude) of the regression coefficients and enforces the beta (slope/partial slope) coefficients to be lower, but not 0. This means Ridge does not remove irrelevant features, but minimises their impact."
   ]
  },
  {
   "cell_type": "code",
   "execution_count": 31,
   "metadata": {
    "id": "da8dc3a4",
    "outputId": "215b2fe2-2c8f-4a1a-88e9-292949a552f6"
   },
   "outputs": [
    {
     "data": {
      "text/plain": [
       "RidgeCV(alphas=array([4.53999298e-05, 4.82131015e-05, 5.12005892e-05, 5.43731942e-05,\n",
       "       5.77423873e-05, 6.13203499e-05, 6.51200182e-05, 6.91551300e-05,\n",
       "       7.34402743e-05, 7.79909444e-05, 8.28235932e-05, 8.79556934e-05,\n",
       "       9.34058002e-05, 9.91936187e-05, 1.05340075e-04, 1.11867391e-04,\n",
       "       1.18799168e-04, 1.26160467e-04, 1.33977903e-04, 1.42279741e-04,\n",
       "       1.51095996e-04, 1.60458543e-0...\n",
       "       1.21720071e+08, 1.29262362e+08, 1.37272005e+08, 1.45777959e+08,\n",
       "       1.54810978e+08, 1.64403721e+08, 1.74590870e+08, 1.85409259e+08,\n",
       "       1.96898001e+08, 2.09098634e+08, 2.22055270e+08, 2.35814754e+08,\n",
       "       2.50426834e+08, 2.65944340e+08, 2.82423376e+08, 2.99923523e+08,\n",
       "       3.18508053e+08, 3.38244159e+08, 3.59203198e+08, 3.81460948e+08,\n",
       "       4.05097881e+08, 4.30199460e+08, 4.56856438e+08, 4.85165195e+08]),\n",
       "        cv=5)"
      ]
     },
     "execution_count": 31,
     "metadata": {},
     "output_type": "execute_result"
    }
   ],
   "source": [
    "from sklearn.linear_model import RidgeCV\n",
    "\n",
    "alphas = np.exp(np.linspace(-10,20,500))\n",
    "ridge_cv = RidgeCV(alphas=alphas, cv=5)\n",
    "ridge_cv.fit(train[predictors], np.ravel(train[response]))"
   ]
  },
  {
   "cell_type": "code",
   "execution_count": 32,
   "metadata": {
    "id": "596a986d",
    "outputId": "29890142-3e52-4b1d-c4c8-403615c8fbad"
   },
   "outputs": [
    {
     "name": "stdout",
     "output_type": "stream",
     "text": [
      "Optimal Ridge Lambda: 0.2180466840317996\n"
     ]
    }
   ],
   "source": [
    "print(\"Optimal Ridge Lambda: {0}\".format(ridge_cv.alpha_))"
   ]
  },
  {
   "cell_type": "markdown",
   "metadata": {
    "id": "a84638d6"
   },
   "source": [
    "Using the CV selected regularisation parameter, we will fit the model below."
   ]
  },
  {
   "cell_type": "code",
   "execution_count": 33,
   "metadata": {
    "id": "0f6d54df",
    "outputId": "741c91ab-e70b-4b5e-94dc-b8c861d750de"
   },
   "outputs": [
    {
     "data": {
      "text/html": [
       "<div>\n",
       "<style scoped>\n",
       "    .dataframe tbody tr th:only-of-type {\n",
       "        vertical-align: middle;\n",
       "    }\n",
       "\n",
       "    .dataframe tbody tr th {\n",
       "        vertical-align: top;\n",
       "    }\n",
       "\n",
       "    .dataframe thead th {\n",
       "        text-align: right;\n",
       "    }\n",
       "</style>\n",
       "<table border=\"1\" class=\"dataframe\">\n",
       "  <thead>\n",
       "    <tr style=\"text-align: right;\">\n",
       "      <th></th>\n",
       "      <th>0</th>\n",
       "    </tr>\n",
       "  </thead>\n",
       "  <tbody>\n",
       "    <tr>\n",
       "      <th>Shops</th>\n",
       "      <td>5.638</td>\n",
       "    </tr>\n",
       "    <tr>\n",
       "      <th>ATMs</th>\n",
       "      <td>-3.602</td>\n",
       "    </tr>\n",
       "    <tr>\n",
       "      <th>Downtown</th>\n",
       "      <td>-3.671</td>\n",
       "    </tr>\n",
       "    <tr>\n",
       "      <th>Weekday</th>\n",
       "      <td>-1.594</td>\n",
       "    </tr>\n",
       "    <tr>\n",
       "      <th>Center</th>\n",
       "      <td>2.198</td>\n",
       "    </tr>\n",
       "    <tr>\n",
       "      <th>High</th>\n",
       "      <td>0.435</td>\n",
       "    </tr>\n",
       "    <tr>\n",
       "      <th>Shops_SQ</th>\n",
       "      <td>17.595</td>\n",
       "    </tr>\n",
       "    <tr>\n",
       "      <th>ATM_SQ</th>\n",
       "      <td>-0.160</td>\n",
       "    </tr>\n",
       "    <tr>\n",
       "      <th>Down_ATM</th>\n",
       "      <td>-0.594</td>\n",
       "    </tr>\n",
       "    <tr>\n",
       "      <th>Shops_ATM</th>\n",
       "      <td>0.650</td>\n",
       "    </tr>\n",
       "    <tr>\n",
       "      <th>Shops_Down</th>\n",
       "      <td>8.478</td>\n",
       "    </tr>\n",
       "  </tbody>\n",
       "</table>\n",
       "</div>"
      ],
      "text/plain": [
       "                 0\n",
       "Shops        5.638\n",
       "ATMs        -3.602\n",
       "Downtown    -3.671\n",
       "Weekday     -1.594\n",
       "Center       2.198\n",
       "High         0.435\n",
       "Shops_SQ    17.595\n",
       "ATM_SQ      -0.160\n",
       "Down_ATM    -0.594\n",
       "Shops_ATM    0.650\n",
       "Shops_Down   8.478"
      ]
     },
     "execution_count": 33,
     "metadata": {},
     "output_type": "execute_result"
    }
   ],
   "source": [
    "from sklearn.linear_model import Ridge\n",
    "\n",
    "ridge = Ridge(alpha=ridge_cv.alpha_)\n",
    "ridge.fit(train[predictors], np.ravel(train[response]))\n",
    "pd.DataFrame(ridge.coef_.round(3),index = predictors)"
   ]
  },
  {
   "cell_type": "markdown",
   "metadata": {},
   "source": [
    "As noted earlier, Ridge does not shrink irrelevant features to 0 but instead minimises impact. We will observe the Test MSE computations later on for findings."
   ]
  },
  {
   "cell_type": "markdown",
   "metadata": {
    "id": "bddab7f0"
   },
   "source": [
    "### ElasticNet"
   ]
  },
  {
   "cell_type": "markdown",
   "metadata": {
    "id": "efa44027"
   },
   "source": [
    "Now, ElasticNet is a weighted combination of the Lasso and Ridge regularisation methods."
   ]
  },
  {
   "cell_type": "code",
   "execution_count": 34,
   "metadata": {
    "id": "285beb2f",
    "outputId": "63bedc26-81f8-44a6-fa7a-2b2cab9ae5af"
   },
   "outputs": [
    {
     "data": {
      "text/plain": [
       "ElasticNetCV(cv=5,\n",
       "             l1_ratio=array([0.01, 0.02, 0.03, 0.04, 0.05, 0.06, 0.07, 0.08, 0.09, 0.1 , 0.11,\n",
       "       0.12, 0.13, 0.14, 0.15, 0.16, 0.17, 0.18, 0.19, 0.2 , 0.21, 0.22,\n",
       "       0.23, 0.24, 0.25, 0.26, 0.27, 0.28, 0.29, 0.3 , 0.31, 0.32, 0.33,\n",
       "       0.34, 0.35, 0.36, 0.37, 0.38, 0.39, 0.4 , 0.41, 0.42, 0.43, 0.44,\n",
       "       0.45, 0.46, 0.47, 0.48, 0.49, 0.5 , 0.51, 0.52, 0.53, 0.54, 0.55,\n",
       "       0.56, 0.57, 0.58, 0.59, 0.6 , 0.61, 0.62, 0.63, 0.64, 0.65, 0.66,\n",
       "       0.67, 0.68, 0.69, 0.7 , 0.71, 0.72, 0.73, 0.74, 0.75, 0.76, 0.77,\n",
       "       0.78, 0.79, 0.8 , 0.81, 0.82, 0.83, 0.84, 0.85, 0.86, 0.87, 0.88,\n",
       "       0.89, 0.9 , 0.91, 0.92, 0.93, 0.94, 0.95, 0.96, 0.97, 0.98, 0.99]))"
      ]
     },
     "execution_count": 34,
     "metadata": {},
     "output_type": "execute_result"
    }
   ],
   "source": [
    "from sklearn.linear_model import ElasticNetCV\n",
    "enet_cv = ElasticNetCV(l1_ratio=np.linspace(0.01,0.99,99), cv=5)\n",
    "enet_cv.fit(train[predictors],np.ravel(train[response]))"
   ]
  },
  {
   "cell_type": "markdown",
   "metadata": {
    "id": "ef307958"
   },
   "source": [
    "Using the CV function above, we now determined the optimal alpha/lambda and the optimal ratio."
   ]
  },
  {
   "cell_type": "code",
   "execution_count": 35,
   "metadata": {
    "id": "5bcd0f63",
    "outputId": "e404a478-0112-4efc-8933-9e165ea1ef62"
   },
   "outputs": [
    {
     "name": "stdout",
     "output_type": "stream",
     "text": [
      "Optimal alpha: 0.02506397388342533\n",
      "Optimal ratio: 0.99\n"
     ]
    }
   ],
   "source": [
    "print(\"Optimal alpha: {0}\".format(enet_cv.alpha_))\n",
    "print(\"Optimal ratio: {0}\".format(enet_cv.l1_ratio_))"
   ]
  },
  {
   "cell_type": "markdown",
   "metadata": {
    "id": "b5ccaa14"
   },
   "source": [
    "Store the model as a standard ElasticNet regression object, using the CV selected parameters."
   ]
  },
  {
   "cell_type": "code",
   "execution_count": 36,
   "metadata": {
    "id": "61e1ab0a",
    "outputId": "7b241210-3e1a-4891-fd9e-c3e805111b39"
   },
   "outputs": [
    {
     "data": {
      "text/html": [
       "<div>\n",
       "<style scoped>\n",
       "    .dataframe tbody tr th:only-of-type {\n",
       "        vertical-align: middle;\n",
       "    }\n",
       "\n",
       "    .dataframe tbody tr th {\n",
       "        vertical-align: top;\n",
       "    }\n",
       "\n",
       "    .dataframe thead th {\n",
       "        text-align: right;\n",
       "    }\n",
       "</style>\n",
       "<table border=\"1\" class=\"dataframe\">\n",
       "  <thead>\n",
       "    <tr style=\"text-align: right;\">\n",
       "      <th></th>\n",
       "      <th>0</th>\n",
       "    </tr>\n",
       "  </thead>\n",
       "  <tbody>\n",
       "    <tr>\n",
       "      <th>Shops</th>\n",
       "      <td>11.137</td>\n",
       "    </tr>\n",
       "    <tr>\n",
       "      <th>ATMs</th>\n",
       "      <td>-2.582</td>\n",
       "    </tr>\n",
       "    <tr>\n",
       "      <th>Downtown</th>\n",
       "      <td>0.000</td>\n",
       "    </tr>\n",
       "    <tr>\n",
       "      <th>Weekday</th>\n",
       "      <td>-1.570</td>\n",
       "    </tr>\n",
       "    <tr>\n",
       "      <th>Center</th>\n",
       "      <td>2.173</td>\n",
       "    </tr>\n",
       "    <tr>\n",
       "      <th>High</th>\n",
       "      <td>0.413</td>\n",
       "    </tr>\n",
       "    <tr>\n",
       "      <th>Shops_SQ</th>\n",
       "      <td>16.540</td>\n",
       "    </tr>\n",
       "    <tr>\n",
       "      <th>ATM_SQ</th>\n",
       "      <td>-0.794</td>\n",
       "    </tr>\n",
       "    <tr>\n",
       "      <th>Down_ATM</th>\n",
       "      <td>-0.000</td>\n",
       "    </tr>\n",
       "    <tr>\n",
       "      <th>Shops_ATM</th>\n",
       "      <td>-0.000</td>\n",
       "    </tr>\n",
       "    <tr>\n",
       "      <th>Shops_Down</th>\n",
       "      <td>0.000</td>\n",
       "    </tr>\n",
       "  </tbody>\n",
       "</table>\n",
       "</div>"
      ],
      "text/plain": [
       "                 0\n",
       "Shops       11.137\n",
       "ATMs        -2.582\n",
       "Downtown     0.000\n",
       "Weekday     -1.570\n",
       "Center       2.173\n",
       "High         0.413\n",
       "Shops_SQ    16.540\n",
       "ATM_SQ      -0.794\n",
       "Down_ATM    -0.000\n",
       "Shops_ATM   -0.000\n",
       "Shops_Down   0.000"
      ]
     },
     "execution_count": 36,
     "metadata": {},
     "output_type": "execute_result"
    }
   ],
   "source": [
    "from sklearn.linear_model import ElasticNet\n",
    "enet = ElasticNet(alpha=enet_cv.alpha_, l1_ratio=enet_cv.l1_ratio_)\n",
    "enet.fit(train[predictors],np.ravel(train[response]))\n",
    "pd.DataFrame(enet.coef_.round(3),index = predictors)"
   ]
  },
  {
   "cell_type": "markdown",
   "metadata": {
    "id": "2455759d"
   },
   "source": [
    "Similar to the Lasso model computer earlier, we observe that the features 'Downtown', 'Down_ATM', 'Shops_ATM' and 'Shops_Down' have also been shrinked to 0 through the ElasticNet regression method."
   ]
  },
  {
   "cell_type": "markdown",
   "metadata": {
    "id": "77e1332d"
   },
   "source": [
    "### Lasso, Ridge, ElasticNet CV Results"
   ]
  },
  {
   "cell_type": "code",
   "execution_count": 37,
   "metadata": {
    "id": "8654a9d3",
    "outputId": "3946c910-cbcb-4c2c-8680-b37445ecf8ad"
   },
   "outputs": [
    {
     "data": {
      "text/html": [
       "<div>\n",
       "<style scoped>\n",
       "    .dataframe tbody tr th:only-of-type {\n",
       "        vertical-align: middle;\n",
       "    }\n",
       "\n",
       "    .dataframe tbody tr th {\n",
       "        vertical-align: top;\n",
       "    }\n",
       "\n",
       "    .dataframe thead th {\n",
       "        text-align: right;\n",
       "    }\n",
       "</style>\n",
       "<table border=\"1\" class=\"dataframe\">\n",
       "  <thead>\n",
       "    <tr style=\"text-align: right;\">\n",
       "      <th></th>\n",
       "      <th>CV MSE</th>\n",
       "    </tr>\n",
       "  </thead>\n",
       "  <tbody>\n",
       "    <tr>\n",
       "      <th>Ridge</th>\n",
       "      <td>6.285</td>\n",
       "    </tr>\n",
       "    <tr>\n",
       "      <th>Lasso</th>\n",
       "      <td>6.346</td>\n",
       "    </tr>\n",
       "    <tr>\n",
       "      <th>Elastic Net</th>\n",
       "      <td>6.342</td>\n",
       "    </tr>\n",
       "  </tbody>\n",
       "</table>\n",
       "</div>"
      ],
      "text/plain": [
       "             CV MSE\n",
       "Ridge         6.285\n",
       "Lasso         6.346\n",
       "Elastic Net   6.342"
      ]
     },
     "execution_count": 37,
     "metadata": {},
     "output_type": "execute_result"
    }
   ],
   "source": [
    "from sklearn.model_selection import KFold\n",
    "from sklearn.model_selection import cross_val_score\n",
    "from sklearn.neighbors import KNeighborsRegressor\n",
    "from sklearn.metrics import mean_squared_error\n",
    "\n",
    "# Cross validator\n",
    "kf=KFold(10, shuffle=True, random_state=1) \n",
    "\n",
    "# Methods\n",
    "columns = ['CV MSE']\n",
    "rows = ['Ridge','Lasso', 'Elastic Net']\n",
    "\n",
    "regressions = [ridge, lasso, enet]\n",
    "results = pd.DataFrame(0.0, columns=columns, index=rows)\n",
    "\n",
    "methods = {k: v for k, v in zip(rows, regressions)}\n",
    "\n",
    "# Computing the results (Scikit Learn objects)\n",
    "keys = ['Ridge','Lasso','Elastic Net']\n",
    "for key in keys:\n",
    "    scores = cross_val_score(methods[key], train[predictors], np.ravel(train[response]), cv=kf, scoring = 'neg_mean_squared_error')\n",
    "    results.loc[key] = -1*np.mean(scores)\n",
    "\n",
    "results.round(3)"
   ]
  },
  {
   "cell_type": "markdown",
   "metadata": {
    "id": "c593af10-3353-4b51-922c-a11e0fe2f756"
   },
   "source": [
    "Computing Test MSE for each model Ridge, Lasso and Elastic Net:"
   ]
  },
  {
   "cell_type": "code",
   "execution_count": 38,
   "metadata": {
    "id": "fcad189c",
    "outputId": "41cc8106-0dec-46c0-ca7a-6a2f95bf8764"
   },
   "outputs": [
    {
     "data": {
      "text/html": [
       "<div>\n",
       "<style scoped>\n",
       "    .dataframe tbody tr th:only-of-type {\n",
       "        vertical-align: middle;\n",
       "    }\n",
       "\n",
       "    .dataframe tbody tr th {\n",
       "        vertical-align: top;\n",
       "    }\n",
       "\n",
       "    .dataframe thead th {\n",
       "        text-align: right;\n",
       "    }\n",
       "</style>\n",
       "<table border=\"1\" class=\"dataframe\">\n",
       "  <thead>\n",
       "    <tr style=\"text-align: right;\">\n",
       "      <th></th>\n",
       "      <th>Test MSE</th>\n",
       "    </tr>\n",
       "  </thead>\n",
       "  <tbody>\n",
       "    <tr>\n",
       "      <th>Ridge</th>\n",
       "      <td>144.570</td>\n",
       "    </tr>\n",
       "    <tr>\n",
       "      <th>Lasso</th>\n",
       "      <td>46.415</td>\n",
       "    </tr>\n",
       "    <tr>\n",
       "      <th>Elastic Net</th>\n",
       "      <td>48.898</td>\n",
       "    </tr>\n",
       "  </tbody>\n",
       "</table>\n",
       "</div>"
      ],
      "text/plain": [
       "             Test MSE\n",
       "Ridge         144.570\n",
       "Lasso          46.415\n",
       "Elastic Net    48.898"
      ]
     },
     "execution_count": 38,
     "metadata": {},
     "output_type": "execute_result"
    }
   ],
   "source": [
    "columns = ['Test MSE']\n",
    "rows = ['Ridge','Lasso', 'Elastic Net']\n",
    "test_results = pd.DataFrame(0.0, columns=columns, index=rows)\n",
    "test_results.loc['Ridge'] = mean_squared_error(test['Withdraw'], ridge.predict(test.iloc[:, test.columns != 'Withdraw'])).round(3)\n",
    "test_results.loc['Lasso'] = mean_squared_error(test['Withdraw'], lasso.predict(test.iloc[:, test.columns != 'Withdraw'])).round(3)\n",
    "test_results.loc['Elastic Net'] = mean_squared_error(test['Withdraw'], enet.predict(test.iloc[:, test.columns != 'Withdraw'])).round(3)\n",
    "\n",
    "test_results"
   ]
  },
  {
   "cell_type": "markdown",
   "metadata": {},
   "source": [
    "When comparing the Test MSE and CV MSE for all models, we observe for the Ridge model, Test MSE > CV MSE significantly which indicates an overfitting model. We note that Ridge regression does not shrink irrelvant features to 0 but rather 'minimises' their impact. As such, we see a much larger test error in Ridge compared to Lasso and Elastic Net models."
   ]
  },
  {
   "cell_type": "markdown",
   "metadata": {
    "id": "666df046"
   },
   "source": [
    "After assesing the MSE values for each method, we can rank the methods from best to worst as follows: <br>\n",
    "1. Lasso\n",
    "2. Elastic Net\n",
    "3. Ridge"
   ]
  },
  {
   "cell_type": "markdown",
   "metadata": {
    "id": "efe7c015"
   },
   "source": [
    "As such, we see that out of the 3 methods above, Lasso as the best method for our model as it holds the smallest CV MSE."
   ]
  },
  {
   "cell_type": "markdown",
   "metadata": {},
   "source": [
    "However, earlier we found that the Multiple Linear Regression model: <br>\n",
    "Withdraw ~ Shops + ATMs + Downtown + Weekday + Center + High + Shops_SQ + ATM_SQ + Down_ATM + Shops_ATM <br>\n",
    "has the lowest Test MSE of 6.032715"
   ]
  },
  {
   "cell_type": "markdown",
   "metadata": {
    "id": "664742fd"
   },
   "source": [
    "# K-Nearest Neighbours Model"
   ]
  },
  {
   "cell_type": "markdown",
   "metadata": {
    "id": "ff3a600f"
   },
   "source": [
    "Apply cross validation to select k for the lowest CV error."
   ]
  },
  {
   "cell_type": "markdown",
   "metadata": {
    "id": "69ac3fa4"
   },
   "source": [
    "Build a function that inputs a list of predictors and a response variable. This goes through the entire process of selecting the number of neighbours through cross validation and obtaining the test results for the selected model."
   ]
  },
  {
   "cell_type": "code",
   "execution_count": 39,
   "metadata": {
    "id": "f0c3068f"
   },
   "outputs": [],
   "source": [
    "def knn_test(predictors, response):\n",
    "    \n",
    "    neighbours=np.arange(1, 50)\n",
    "    best_score = -np.inf\n",
    "    \n",
    "    for k in neighbours: \n",
    "        knn = KNeighborsRegressor(n_neighbors = k, metric='mahalanobis', metric_params={'V': train_copy[predictors].cov()}) \n",
    "        scores = cross_val_score(knn, train_copy[predictors], train_copy[response], cv=10, scoring = 'neg_mean_squared_error')\n",
    "        \n",
    "        # Taking the average of scores across 10 folds\n",
    "        cv_score = np.mean(scores)\n",
    "        \n",
    "        # Use the cv score for model selection\n",
    "        if cv_score >= best_score:\n",
    "            best_score = cv_score\n",
    "            best_knn = knn\n",
    "    \n",
    "    knn = best_knn\n",
    "    \n",
    "    # Train the selected model with the whole train set\n",
    "    knn.fit(train_copy[predictors], train_copy[response])\n",
    "    \n",
    "    # Predict the test data with the selected and re-estimated model\n",
    "    predictions = knn.predict(test_copy[predictors])\n",
    "    test_mse = mean_squared_error(test_copy[response], predictions)\n",
    "    cv_mse= -best_score\n",
    "    print('Chosen K: {}'.format(knn.n_neighbors))\n",
    "    \n",
    "    return test_mse, cv_mse"
   ]
  },
  {
   "cell_type": "markdown",
   "metadata": {
    "id": "ab73c409"
   },
   "source": [
    "We will make a model with Withdraw ~ Shops as Shops was the highest correlation predictor to our response."
   ]
  },
  {
   "cell_type": "markdown",
   "metadata": {},
   "source": [
    "Performing Forward-stepwise selection to select best model:"
   ]
  },
  {
   "cell_type": "markdown",
   "metadata": {
    "id": "c3ced3cd"
   },
   "source": [
    "When inputting the first predictor, the best (i.e. lowest CV RMSE) model was Withdraw ~ Shops"
   ]
  },
  {
   "cell_type": "code",
   "execution_count": 40,
   "metadata": {
    "id": "52afdb3a",
    "outputId": "87f9dbd6-3282-45b6-9928-894fcc4c19b5"
   },
   "outputs": [
    {
     "name": "stdout",
     "output_type": "stream",
     "text": [
      "Chosen K: 49\n",
      "Test MSE : 16.4783\n",
      "Cross validation MSE : 17.7755\n"
     ]
    }
   ],
   "source": [
    "response='Withdraw'\n",
    "predictors=['Shops']\n",
    "test_mse, cv_mse  =  knn_test(predictors, response) \n",
    "print('Test MSE : {}'.format(test_mse.round(4)))\n",
    "print('Cross validation MSE : {}'.format(cv_mse.round(4)))"
   ]
  },
  {
   "cell_type": "markdown",
   "metadata": {
    "id": "941f550b"
   },
   "source": [
    "When inputting two predictors, the best (i.e. lowest CV RMSE) model was Withdraw ~ Shops + Weekday"
   ]
  },
  {
   "cell_type": "code",
   "execution_count": 41,
   "metadata": {
    "id": "9996ddd7",
    "outputId": "ffe86644-fa3f-4eb2-f87e-c6abf28205bd"
   },
   "outputs": [
    {
     "name": "stdout",
     "output_type": "stream",
     "text": [
      "Chosen K: 47\n",
      "Test MSE : 14.1126\n",
      "Cross validation MSE : 14.8041\n"
     ]
    }
   ],
   "source": [
    "response='Withdraw'\n",
    "predictors=['Shops', 'Weekday']\n",
    "test_mse, cv_mse  =  knn_test(predictors, response) \n",
    "print('Test MSE : {}'.format(test_mse.round(4)))\n",
    "print('Cross validation MSE : {}'.format(cv_mse.round(4)))"
   ]
  },
  {
   "cell_type": "markdown",
   "metadata": {
    "id": "2c43c04b"
   },
   "source": [
    "When inputting three predictors, the best (i.e. lowest CV RMSE) model was Withdraw ~ Shops + Weekday + Center"
   ]
  },
  {
   "cell_type": "code",
   "execution_count": 42,
   "metadata": {
    "id": "1f34e2e2",
    "outputId": "e6a48559-3874-4581-f6ae-541104105265"
   },
   "outputs": [
    {
     "name": "stdout",
     "output_type": "stream",
     "text": [
      "Chosen K: 49\n",
      "Test MSE : 3.7725\n",
      "Cross validation MSE : 3.7577\n"
     ]
    }
   ],
   "source": [
    "response='Withdraw'\n",
    "predictors=['Shops', 'Weekday', 'Center']\n",
    "test_mse, cv_mse  =  knn_test(predictors, response) \n",
    "print('Test MSE : {}'.format(test_mse.round(4)))\n",
    "print('Cross validation MSE : {}'.format(cv_mse.round(4)))"
   ]
  },
  {
   "cell_type": "markdown",
   "metadata": {
    "id": "3668957a"
   },
   "source": [
    "When inputting four predictors, the best (i.e. lowest CV RMSE) model was Withdraw ~ Shops + Weekday + Center + ATMs"
   ]
  },
  {
   "cell_type": "code",
   "execution_count": 43,
   "metadata": {
    "id": "fb9cd0c3",
    "outputId": "549a29fe-0a01-45aa-dcbe-806b682353d3"
   },
   "outputs": [
    {
     "name": "stdout",
     "output_type": "stream",
     "text": [
      "Chosen K: 8\n",
      "Test MSE : 0.5937\n",
      "Cross validation MSE : 0.5837\n"
     ]
    }
   ],
   "source": [
    "response='Withdraw'\n",
    "predictors=['Shops', 'Weekday', 'Center', 'ATMs']\n",
    "test_mse, cv_mse  =  knn_test(predictors, response) \n",
    "print('Test MSE : {}'.format(test_mse.round(4)))\n",
    "print('Cross validation MSE : {}'.format(cv_mse.round(4)))"
   ]
  },
  {
   "cell_type": "markdown",
   "metadata": {},
   "source": [
    "When inputting five predictors, the best (i.e. lowest CV RMSE) model was Withdraw ~ Shops + Weekday + Center + ATMs + High"
   ]
  },
  {
   "cell_type": "code",
   "execution_count": 44,
   "metadata": {
    "id": "0642e45f",
    "outputId": "d1742993-3b5b-473e-9d06-6e4c79783d24"
   },
   "outputs": [
    {
     "name": "stdout",
     "output_type": "stream",
     "text": [
      "Chosen K: 4\n",
      "Test MSE : 0.3961\n",
      "Cross validation MSE : 0.3998\n"
     ]
    }
   ],
   "source": [
    "response='Withdraw'\n",
    "predictors=['Shops', 'Weekday', 'Center', 'ATMs', 'High']\n",
    "test_mse, cv_mse  =  knn_test(predictors, response) \n",
    "print('Test MSE : {}'.format(test_mse.round(4)))\n",
    "print('Cross validation MSE : {}'.format(cv_mse.round(4)))"
   ]
  },
  {
   "cell_type": "markdown",
   "metadata": {
    "id": "edbfd79b"
   },
   "source": [
    "Now all predictors have been included in the model. We see that this results in the lowest Test MSE and CV MSE yet."
   ]
  },
  {
   "cell_type": "code",
   "execution_count": 45,
   "metadata": {
    "id": "de1fdbbf",
    "outputId": "66d346e3-08eb-4d69-fb9d-3c094d7ba0d5"
   },
   "outputs": [
    {
     "name": "stdout",
     "output_type": "stream",
     "text": [
      "Chosen K: 9\n",
      "Test MSE : 0.3156\n",
      "Cross validation MSE : 0.3292\n"
     ]
    }
   ],
   "source": [
    "response='Withdraw'\n",
    "predictors=['Shops', 'Weekday', 'Center', 'High', 'ATMs', 'Downtown']\n",
    "test_mse, cv_mse  =  knn_test(predictors, response)\n",
    "print('Test MSE : {}'.format(test_mse.round(4)))\n",
    "print('Cross validation MSE : {}'.format(cv_mse.round(4)))"
   ]
  },
  {
   "cell_type": "code",
   "execution_count": 46,
   "metadata": {
    "id": "0f392602",
    "outputId": "7bcc67bd-308f-4e07-fd64-0d1196f5ddf7"
   },
   "outputs": [
    {
     "data": {
      "image/png": "[encoded data removed]",
      "text/plain": [
       "<Figure size 432x288 with 1 Axes>"
      ]
     },
     "metadata": {
      "needs_background": "light"
     },
     "output_type": "display_data"
    },
    {
     "name": "stdout",
     "output_type": "stream",
     "text": [
      "Lowest CV error: K = 9\n"
     ]
    }
   ],
   "source": [
    "import matplotlib.pyplot as plt\n",
    "\n",
    "predictors=['Shops', 'Weekday', 'Center', 'High', 'ATMs', 'Downtown']\n",
    "\n",
    "neighbours=np.arange(1, 101)\n",
    "cv_mse = []\n",
    "\n",
    "for k in neighbours: \n",
    "    knn = KNeighborsRegressor(n_neighbors = k, metric='mahalanobis', metric_params={'V': train[predictors].cov()}) \n",
    "    scores = cross_val_score(knn, train[predictors], train['Withdraw'], cv=10, scoring = 'neg_mean_squared_error')\n",
    "    mse = -1*np.mean(scores) # taking the average MSE across folds, then taking the square root\n",
    "    cv_mse.append(mse)\n",
    "    knn.fit(train[predictors], train['Withdraw'])\n",
    "\n",
    "fig, ax= plt.subplots()\n",
    "ax.plot(neighbours, cv_mse, color='#FF7F0E', label='CV error')\n",
    "ax.set_xlabel('Number of neighbours')\n",
    "ax.set_ylabel('MSE')\n",
    "plt.legend()\n",
    "plt.show()\n",
    "  \n",
    "print('Lowest CV error: K = {}'.format(1 + np.argmin(cv_mse)))"
   ]
  },
  {
   "cell_type": "markdown",
   "metadata": {
    "id": "b6dffda9"
   },
   "source": [
    "Recall earlier where the predictors 'Shops' and 'Downtown' had a correlation of 0.999131 so we will try to drop it here because of the high correlation."
   ]
  },
  {
   "cell_type": "code",
   "execution_count": 47,
   "metadata": {
    "id": "cd289978",
    "outputId": "f1d8b155-8850-40d8-a9e0-d246ac0df8f5"
   },
   "outputs": [
    {
     "name": "stdout",
     "output_type": "stream",
     "text": [
      "Chosen K: 4\n",
      "Test MSE : 0.3946\n",
      "Cross validation MSE : 0.3996\n"
     ]
    }
   ],
   "source": [
    "response='Withdraw'\n",
    "predictors=['Shops', 'Weekday', 'Center', 'High', 'ATMs']\n",
    "test_mse, cv_mse  =  knn_test(predictors, response) \n",
    "print('Test MSE : {}'.format(test_mse.round(4)))\n",
    "print('Cross validation MSE : {}'.format(cv_mse.round(4)))"
   ]
  },
  {
   "cell_type": "markdown",
   "metadata": {
    "id": "af0ea257"
   },
   "source": [
    "We see that this did not decrease our Test MSE nor our CV MSE so we will add the predictor 'Downtown' back into our model, adding all predictors: <br> Withdraw ~ Shops + Weekday + Center + High + ATMs + Downtown has the lowest CV RMSE currently."
   ]
  },
  {
   "cell_type": "markdown",
   "metadata": {
    "id": "3452841b"
   },
   "source": [
    "From the interaction terms created earlier, we had predictors: <br> <br>\n",
    "Shops_SQ = Shops * Shops <br>\n",
    "ATM_SQ = ATMs * ATMs <br> <br>\n",
    "Shops_ATM = Shops * ATMs <br>\n",
    "Shops_Down = Shops * Downtown <br>\n",
    "Down_ATM = Downtown * ATMs <br>"
   ]
  },
  {
   "cell_type": "markdown",
   "metadata": {
    "id": "b8be4021"
   },
   "source": [
    "For now, we will add onto our current model the squared predictors e.g. 'Shops_SQ', 'ATM_SQ'."
   ]
  },
  {
   "cell_type": "code",
   "execution_count": 48,
   "metadata": {
    "id": "5d882267",
    "outputId": "f0b7db87-824a-48d1-f634-1c9fb234e088"
   },
   "outputs": [
    {
     "name": "stdout",
     "output_type": "stream",
     "text": [
      "Chosen K: 8\n",
      "Test MSE : 0.3298\n",
      "Cross validation MSE : 0.347\n"
     ]
    }
   ],
   "source": [
    "response='Withdraw'\n",
    "predictors=['Shops', 'Weekday', 'Center', 'High', 'ATMs', 'Downtown', 'Shops_SQ']\n",
    "test_mse, cv_mse  =  knn_test(predictors, response) \n",
    "print('Test MSE : {}'.format(test_mse.round(4)))\n",
    "print('Cross validation MSE : {}'.format(cv_mse.round(4)))"
   ]
  },
  {
   "cell_type": "code",
   "execution_count": 49,
   "metadata": {
    "id": "cad2a255",
    "outputId": "1806a64c-6aea-4c88-d93a-0c23024e37b8"
   },
   "outputs": [
    {
     "name": "stdout",
     "output_type": "stream",
     "text": [
      "Chosen K: 6\n",
      "Test MSE : 0.3263\n",
      "Cross validation MSE : 0.3401\n"
     ]
    }
   ],
   "source": [
    "response='Withdraw'\n",
    "predictors=['Shops', 'Weekday', 'Center', 'High', 'ATMs', 'Downtown', 'ATM_SQ']\n",
    "test_mse, cv_mse  =  knn_test(predictors, response) \n",
    "print('Test MSE : {}'.format(test_mse.round(4)))\n",
    "print('Cross validation MSE : {}'.format(cv_mse.round(4)))"
   ]
  },
  {
   "cell_type": "markdown",
   "metadata": {
    "id": "331096b6"
   },
   "source": [
    "We will keep the model with predictors 'Shops', 'Weekday', 'Center', 'High', 'ATMs', 'Downtown', 'Shops_SQ' which gave us a Test MSE = 0.3254"
   ]
  },
  {
   "cell_type": "markdown",
   "metadata": {
    "id": "0d46a2f3"
   },
   "source": [
    "Continue to test interaction terms of the product interaction terms e.g. 'Shops_ATM', 'Shops_Down', 'Down_ATM'."
   ]
  },
  {
   "cell_type": "code",
   "execution_count": 50,
   "metadata": {
    "id": "5b0dd274",
    "outputId": "1843a3d5-9f67-4ab5-bb08-c600900f303c"
   },
   "outputs": [
    {
     "name": "stdout",
     "output_type": "stream",
     "text": [
      "Chosen K: 8\n",
      "Test MSE : 0.3223\n",
      "Cross validation MSE : 0.3379\n"
     ]
    }
   ],
   "source": [
    "response='Withdraw'\n",
    "predictors=['Shops', 'Weekday', 'Center', 'High', 'ATMs', 'Downtown', 'Shops_SQ', 'Shops_ATM']\n",
    "test_mse, cv_mse  =  knn_test(predictors, response) \n",
    "print('Test MSE : {}'.format(test_mse.round(4)))\n",
    "print('Cross validation MSE : {}'.format(cv_mse.round(4)))"
   ]
  },
  {
   "cell_type": "code",
   "execution_count": 51,
   "metadata": {
    "id": "d0e6aef8",
    "outputId": "d84aa3fe-b44e-4ece-a04c-454420b14c08"
   },
   "outputs": [
    {
     "name": "stdout",
     "output_type": "stream",
     "text": [
      "Chosen K: 6\n",
      "Test MSE : 0.3992\n",
      "Cross validation MSE : 0.4592\n"
     ]
    }
   ],
   "source": [
    "response='Withdraw'\n",
    "predictors=['Shops', 'Weekday', 'Center', 'High', 'ATMs', 'Downtown', 'Shops_SQ', 'Shops_Down']\n",
    "test_mse, cv_mse  =  knn_test(predictors, response) \n",
    "print('Test MSE : {}'.format(test_mse.round(4)))\n",
    "print('Cross validation MSE : {}'.format(cv_mse.round(4)))"
   ]
  },
  {
   "cell_type": "code",
   "execution_count": 52,
   "metadata": {
    "id": "be1db597",
    "outputId": "209d0e66-0897-4f2e-ca41-45176eedabda"
   },
   "outputs": [
    {
     "name": "stdout",
     "output_type": "stream",
     "text": [
      "Chosen K: 8\n",
      "Test MSE : 0.3234\n",
      "Cross validation MSE : 0.336\n"
     ]
    }
   ],
   "source": [
    "response='Withdraw'\n",
    "predictors=['Shops', 'Weekday', 'Center', 'High', 'ATMs', 'Downtown', 'Shops_SQ', 'Down_ATM']\n",
    "test_mse, cv_mse  =  knn_test(predictors, response) \n",
    "print('Test MSE : {}'.format(test_mse.round(4)))\n",
    "print('Cross validation MSE : {}'.format(cv_mse.round(4)))"
   ]
  },
  {
   "cell_type": "code",
   "execution_count": 53,
   "metadata": {
    "id": "74e252b3",
    "outputId": "e74b25e7-0286-43b2-ec77-6bde1abc0d68"
   },
   "outputs": [
    {
     "name": "stdout",
     "output_type": "stream",
     "text": [
      "Chosen K: 8\n",
      "Test MSE : 0.3196\n",
      "Cross validation MSE : 0.3318\n"
     ]
    }
   ],
   "source": [
    "response='Withdraw'\n",
    "predictors=['Shops', 'Weekday', 'Center', 'High', 'ATMs', 'Downtown', 'Shops_ATM']\n",
    "test_mse, cv_mse  =  knn_test(predictors, response) \n",
    "print('Test MSE : {}'.format(test_mse.round(4)))\n",
    "print('Cross validation MSE : {}'.format(cv_mse.round(4)))"
   ]
  },
  {
   "cell_type": "code",
   "execution_count": 54,
   "metadata": {
    "id": "ce3f3a52",
    "outputId": "f4557e08-98a8-4218-89c0-62aa36d5c797"
   },
   "outputs": [
    {
     "name": "stdout",
     "output_type": "stream",
     "text": [
      "Chosen K: 6\n",
      "Test MSE : 0.328\n",
      "Cross validation MSE : 0.3431\n"
     ]
    }
   ],
   "source": [
    "response='Withdraw'\n",
    "predictors=['Shops', 'Weekday', 'Center', 'High', 'ATMs', 'Downtown', 'Shops_Down']\n",
    "test_mse, cv_mse  =  knn_test(predictors, response) \n",
    "print('Test MSE : {}'.format(test_mse.round(4)))\n",
    "print('Cross validation MSE : {}'.format(cv_mse.round(4)))"
   ]
  },
  {
   "cell_type": "code",
   "execution_count": 55,
   "metadata": {
    "id": "850b6a42",
    "outputId": "81c317dc-11f8-4619-f39d-5e251c7b4ba3"
   },
   "outputs": [
    {
     "name": "stdout",
     "output_type": "stream",
     "text": [
      "Chosen K: 9\n",
      "Test MSE : 0.3162\n",
      "Cross validation MSE : 0.3288\n"
     ]
    }
   ],
   "source": [
    "response='Withdraw'\n",
    "predictors=['Shops', 'Weekday', 'Center', 'High', 'ATMs', 'Downtown', 'Down_ATM']\n",
    "test_mse, cv_mse  =  knn_test(predictors, response) \n",
    "print('Test MSE : {}'.format(test_mse.round(4)))\n",
    "print('Cross validation MSE : {}'.format(cv_mse.round(4)))"
   ]
  },
  {
   "cell_type": "code",
   "execution_count": 1,
   "metadata": {},
   "outputs": [
    {
     "ename": "NameError",
     "evalue": "name 'knn_test' is not defined",
     "output_type": "error",
     "traceback": [
      "\u001b[0;31m---------------------------------------------------------------------------\u001b[0m",
      "\u001b[0;31mNameError\u001b[0m                                 Traceback (most recent call last)",
      "\u001b[0;32m<ipython-input-1-4cc1f9f0a312>\u001b[0m in \u001b[0;36m<module>\u001b[0;34m\u001b[0m\n\u001b[1;32m      1\u001b[0m \u001b[0mresponse\u001b[0m\u001b[0;34m=\u001b[0m\u001b[0;34m'Withdraw'\u001b[0m\u001b[0;34m\u001b[0m\u001b[0;34m\u001b[0m\u001b[0m\n\u001b[1;32m      2\u001b[0m \u001b[0mpredictors\u001b[0m\u001b[0;34m=\u001b[0m\u001b[0;34m[\u001b[0m\u001b[0;34m'Shops'\u001b[0m\u001b[0;34m,\u001b[0m \u001b[0;34m'Weekday'\u001b[0m\u001b[0;34m,\u001b[0m \u001b[0;34m'Center'\u001b[0m\u001b[0;34m,\u001b[0m \u001b[0;34m'High'\u001b[0m\u001b[0;34m,\u001b[0m \u001b[0;34m'ATMs'\u001b[0m\u001b[0;34m,\u001b[0m \u001b[0;34m'Downtown'\u001b[0m\u001b[0;34m,\u001b[0m \u001b[0;34m'Shops_SQ'\u001b[0m\u001b[0;34m,\u001b[0m \u001b[0;34m'ATM_SQ'\u001b[0m\u001b[0;34m,\u001b[0m \u001b[0;34m'Shops_Down'\u001b[0m\u001b[0;34m,\u001b[0m \u001b[0;34m'Shops_ATM'\u001b[0m\u001b[0;34m,\u001b[0m \u001b[0;34m'Down_ATM'\u001b[0m\u001b[0;34m]\u001b[0m\u001b[0;34m\u001b[0m\u001b[0;34m\u001b[0m\u001b[0m\n\u001b[0;32m----> 3\u001b[0;31m \u001b[0mtest_mse\u001b[0m\u001b[0;34m,\u001b[0m \u001b[0mcv_mse\u001b[0m  \u001b[0;34m=\u001b[0m  \u001b[0mknn_test\u001b[0m\u001b[0;34m(\u001b[0m\u001b[0mpredictors\u001b[0m\u001b[0;34m,\u001b[0m \u001b[0mresponse\u001b[0m\u001b[0;34m)\u001b[0m\u001b[0;34m\u001b[0m\u001b[0;34m\u001b[0m\u001b[0m\n\u001b[0m\u001b[1;32m      4\u001b[0m \u001b[0mprint\u001b[0m\u001b[0;34m(\u001b[0m\u001b[0;34m'Test MSE : {}'\u001b[0m\u001b[0;34m.\u001b[0m\u001b[0mformat\u001b[0m\u001b[0;34m(\u001b[0m\u001b[0mtest_mse\u001b[0m\u001b[0;34m.\u001b[0m\u001b[0mround\u001b[0m\u001b[0;34m(\u001b[0m\u001b[0;36m4\u001b[0m\u001b[0;34m)\u001b[0m\u001b[0;34m)\u001b[0m\u001b[0;34m)\u001b[0m\u001b[0;34m\u001b[0m\u001b[0;34m\u001b[0m\u001b[0m\n\u001b[1;32m      5\u001b[0m \u001b[0mprint\u001b[0m\u001b[0;34m(\u001b[0m\u001b[0;34m'Cross validation MSE : {}'\u001b[0m\u001b[0;34m.\u001b[0m\u001b[0mformat\u001b[0m\u001b[0;34m(\u001b[0m\u001b[0mcv_mse\u001b[0m\u001b[0;34m.\u001b[0m\u001b[0mround\u001b[0m\u001b[0;34m(\u001b[0m\u001b[0;36m4\u001b[0m\u001b[0;34m)\u001b[0m\u001b[0;34m)\u001b[0m\u001b[0;34m)\u001b[0m\u001b[0;34m\u001b[0m\u001b[0;34m\u001b[0m\u001b[0m\n",
      "\u001b[0;31mNameError\u001b[0m: name 'knn_test' is not defined"
     ]
    }
   ],
   "source": [
    "response='Withdraw'\n",
    "predictors=['Shops', 'Weekday', 'Center', 'High', 'ATMs', 'Downtown', 'Shops_SQ', 'ATM_SQ', 'Shops_Down', 'Shops_ATM', 'Down_ATM']\n",
    "test_mse, cv_mse  =  knn_test(predictors, response) \n",
    "print('Test MSE : {}'.format(test_mse.round(4)))\n",
    "print('Cross validation MSE : {}'.format(cv_mse.round(4)))"
   ]
  },
  {
   "cell_type": "code",
   "execution_count": 10,
   "metadata": {},
   "outputs": [
    {
     "data": {
      "text/html": [
       "<div>\n",
       "<style scoped>\n",
       "    .dataframe tbody tr th:only-of-type {\n",
       "        vertical-align: middle;\n",
       "    }\n",
       "\n",
       "    .dataframe tbody tr th {\n",
       "        vertical-align: top;\n",
       "    }\n",
       "\n",
       "    .dataframe thead th {\n",
       "        text-align: right;\n",
       "    }\n",
       "</style>\n",
       "<table border=\"1\" class=\"dataframe\">\n",
       "  <thead>\n",
       "    <tr style=\"text-align: right;\">\n",
       "      <th></th>\n",
       "      <th>Shops</th>\n",
       "      <th>ATMs</th>\n",
       "      <th>Downtown</th>\n",
       "      <th>Weekday</th>\n",
       "      <th>Center</th>\n",
       "      <th>High</th>\n",
       "      <th>Withdraw</th>\n",
       "    </tr>\n",
       "  </thead>\n",
       "  <tbody>\n",
       "    <tr>\n",
       "      <th>0</th>\n",
       "      <td>10.18</td>\n",
       "      <td>10</td>\n",
       "      <td>1</td>\n",
       "      <td>0</td>\n",
       "      <td>0</td>\n",
       "      <td>0</td>\n",
       "      <td>72.750556</td>\n",
       "    </tr>\n",
       "    <tr>\n",
       "      <th>1</th>\n",
       "      <td>9.74</td>\n",
       "      <td>10</td>\n",
       "      <td>1</td>\n",
       "      <td>1</td>\n",
       "      <td>0</td>\n",
       "      <td>0</td>\n",
       "      <td>66.720482</td>\n",
       "    </tr>\n",
       "    <tr>\n",
       "      <th>2</th>\n",
       "      <td>0.96</td>\n",
       "      <td>2</td>\n",
       "      <td>0</td>\n",
       "      <td>0</td>\n",
       "      <td>0</td>\n",
       "      <td>1</td>\n",
       "      <td>19.189516</td>\n",
       "    </tr>\n",
       "    <tr>\n",
       "      <th>3</th>\n",
       "      <td>9.58</td>\n",
       "      <td>9</td>\n",
       "      <td>1</td>\n",
       "      <td>1</td>\n",
       "      <td>0</td>\n",
       "      <td>1</td>\n",
       "      <td>67.388669</td>\n",
       "    </tr>\n",
       "    <tr>\n",
       "      <th>4</th>\n",
       "      <td>1.03</td>\n",
       "      <td>4</td>\n",
       "      <td>0</td>\n",
       "      <td>1</td>\n",
       "      <td>0</td>\n",
       "      <td>1</td>\n",
       "      <td>15.813127</td>\n",
       "    </tr>\n",
       "    <tr>\n",
       "      <th>...</th>\n",
       "      <td>...</td>\n",
       "      <td>...</td>\n",
       "      <td>...</td>\n",
       "      <td>...</td>\n",
       "      <td>...</td>\n",
       "      <td>...</td>\n",
       "      <td>...</td>\n",
       "    </tr>\n",
       "    <tr>\n",
       "      <th>21995</th>\n",
       "      <td>10.15</td>\n",
       "      <td>12</td>\n",
       "      <td>1</td>\n",
       "      <td>0</td>\n",
       "      <td>0</td>\n",
       "      <td>0</td>\n",
       "      <td>71.384290</td>\n",
       "    </tr>\n",
       "    <tr>\n",
       "      <th>21996</th>\n",
       "      <td>1.01</td>\n",
       "      <td>2</td>\n",
       "      <td>0</td>\n",
       "      <td>1</td>\n",
       "      <td>0</td>\n",
       "      <td>0</td>\n",
       "      <td>16.031066</td>\n",
       "    </tr>\n",
       "    <tr>\n",
       "      <th>21997</th>\n",
       "      <td>0.96</td>\n",
       "      <td>3</td>\n",
       "      <td>0</td>\n",
       "      <td>1</td>\n",
       "      <td>0</td>\n",
       "      <td>0</td>\n",
       "      <td>14.968847</td>\n",
       "    </tr>\n",
       "    <tr>\n",
       "      <th>21998</th>\n",
       "      <td>9.91</td>\n",
       "      <td>6</td>\n",
       "      <td>1</td>\n",
       "      <td>0</td>\n",
       "      <td>0</td>\n",
       "      <td>0</td>\n",
       "      <td>73.705665</td>\n",
       "    </tr>\n",
       "    <tr>\n",
       "      <th>21999</th>\n",
       "      <td>1.08</td>\n",
       "      <td>3</td>\n",
       "      <td>0</td>\n",
       "      <td>1</td>\n",
       "      <td>0</td>\n",
       "      <td>1</td>\n",
       "      <td>16.750351</td>\n",
       "    </tr>\n",
       "  </tbody>\n",
       "</table>\n",
       "<p>22000 rows × 7 columns</p>\n",
       "</div>"
      ],
      "text/plain": [
       "       Shops  ATMs  Downtown  Weekday  Center  High   Withdraw\n",
       "0      10.18    10         1        0       0     0  72.750556\n",
       "1       9.74    10         1        1       0     0  66.720482\n",
       "2       0.96     2         0        0       0     1  19.189516\n",
       "3       9.58     9         1        1       0     1  67.388669\n",
       "4       1.03     4         0        1       0     1  15.813127\n",
       "...      ...   ...       ...      ...     ...   ...        ...\n",
       "21995  10.15    12         1        0       0     0  71.384290\n",
       "21996   1.01     2         0        1       0     0  16.031066\n",
       "21997   0.96     3         0        1       0     0  14.968847\n",
       "21998   9.91     6         1        0       0     0  73.705665\n",
       "21999   1.08     3         0        1       0     1  16.750351\n",
       "\n",
       "[22000 rows x 7 columns]"
      ]
     },
     "execution_count": 10,
     "metadata": {},
     "output_type": "execute_result"
    }
   ],
   "source": [
    "data"
   ]
  },
  {
   "cell_type": "markdown",
   "metadata": {},
   "source": [
    "## Added part"
   ]
  },
  {
   "cell_type": "code",
   "execution_count": 26,
   "metadata": {},
   "outputs": [
    {
     "name": "stdout",
     "output_type": "stream",
     "text": [
      "2.6901677946649256\n"
     ]
    }
   ],
   "source": [
    "testset = pd.read_csv(\"ATM_test.csv\")\n",
    "y_true = testset['Withdraw']\n",
    "testset = testset.drop(['Withdraw'], axis = 1)\n",
    "formula = \"Withdraw ~ Shops + ATMs + Downtown + Weekday + Center + High\"\n",
    "model_formula = smf.ols(formula = formula, data = data)\n",
    "results_formula = model_formula.fit()\n",
    "y_predict = results_formula.predict(testset)\n",
    "mse = mean_squared_error(y_true, y_predict)\n",
    "print(mse)"
   ]
  },
  {
   "cell_type": "code",
   "execution_count": null,
   "metadata": {},
   "outputs": [],
   "source": []
  },
  {
   "cell_type": "code",
   "execution_count": null,
   "metadata": {},
   "outputs": [],
   "source": []
  }
 ],
 "metadata": {
  "colab": {
   "name": "ECON3203_Group_Assignment 1111.ipynb",
   "provenance": []
  },
  "kernelspec": {
   "display_name": "Python 3",
   "language": "python",
   "name": "python3"
  },
  "language_info": {
   "codemirror_mode": {
    "name": "ipython",
    "version": 3
   },
   "file_extension": ".py",
   "mimetype": "text/x-python",
   "name": "python",
   "nbconvert_exporter": "python",
   "pygments_lexer": "ipython3",
   "version": "3.8.5"
  }
 },
 "nbformat": 4,
 "nbformat_minor": 5
}
